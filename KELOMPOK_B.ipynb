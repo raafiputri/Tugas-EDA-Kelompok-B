{
  "nbformat": 4,
  "nbformat_minor": 0,
  "metadata": {
    "colab": {
      "name": "KELOMPOK B.ipynb",
      "provenance": [],
      "collapsed_sections": [
        "V4svmHDy4wwS",
        "KEH0XWqdiPJf"
      ],
      "include_colab_link": true
    },
    "kernelspec": {
      "display_name": "Python 3",
      "language": "python",
      "name": "python3"
    },
    "language_info": {
      "codemirror_mode": {
        "name": "ipython",
        "version": 3
      },
      "file_extension": ".py",
      "mimetype": "text/x-python",
      "name": "python",
      "nbconvert_exporter": "python",
      "pygments_lexer": "ipython3",
      "version": "3.8.5"
    }
  },
  "cells": [
    {
      "cell_type": "markdown",
      "metadata": {
        "id": "view-in-github",
        "colab_type": "text"
      },
      "source": [
        "<a href=\"https://colab.research.google.com/github/raafiputri/Tugas-EDA-Kelompok-B/blob/main/KELOMPOK_B.ipynb\" target=\"_parent\"><img src=\"https://colab.research.google.com/assets/colab-badge.svg\" alt=\"Open In Colab\"/></a>"
      ]
    },
    {
      "cell_type": "code",
      "metadata": {
        "id": "9Z1cWt9simAK"
      },
      "source": [
        "KELOMPOK B\n",
        "\n",
        "Ghefira Nur Fatimah Widyasari - 2006483694\n",
        "Raafi Putri Ramadhani Salamah - 2006570952\n",
        "Andini Assyahidah             - 2006571040\n",
        "Daranita Sukmajati            - 2006570946\n",
        "Kezia Emmanuela Bangun        - 2006572964"
      ],
      "execution_count": null,
      "outputs": []
    },
    {
      "cell_type": "markdown",
      "metadata": {
        "id": "Va7JE1wPithk"
      },
      "source": [
        "### **TUGAS  1**"
      ]
    },
    {
      "cell_type": "code",
      "metadata": {
        "id": "_h3ruXRXcqrF"
      },
      "source": [
        "import warnings; warnings.simplefilter('ignore')\n",
        "import pandas as pd, matplotlib.pyplot as plt, seaborn as sns, numpy as np\n",
        "import matplotlib.cm as cm\n",
        "from collections import Counter\n",
        "plt.style.use('bmh'); sns.set()"
      ],
      "execution_count": null,
      "outputs": []
    },
    {
      "cell_type": "code",
      "metadata": {
        "colab": {
          "base_uri": "https://localhost:8080/"
        },
        "id": "L31WFebreCwO",
        "outputId": "5cec3d19-3f97-4360-bcc5-4dbdf48a845e"
      },
      "source": [
        "#Importing CSV Data\n",
        "\n",
        "!mkdir data\n",
        "!wget -P data/ https://raw.githubusercontent.com/taudata-indonesia/eLearning/master/data/price.csv\n",
        "price = pd.read_csv('data/price.csv')"
      ],
      "execution_count": null,
      "outputs": [
        {
          "output_type": "stream",
          "text": [
            "--2021-04-14 04:20:43--  https://raw.githubusercontent.com/taudata-indonesia/eLearning/master/data/price.csv\n",
            "Resolving raw.githubusercontent.com (raw.githubusercontent.com)... 185.199.108.133, 185.199.109.133, 185.199.110.133, ...\n",
            "Connecting to raw.githubusercontent.com (raw.githubusercontent.com)|185.199.108.133|:443... connected.\n",
            "HTTP request sent, awaiting response... 200 OK\n",
            "Length: 53592 (52K) [text/plain]\n",
            "Saving to: ‘data/price.csv’\n",
            "\n",
            "\rprice.csv             0%[                    ]       0  --.-KB/s               \rprice.csv           100%[===================>]  52.34K  --.-KB/s    in 0.007s  \n",
            "\n",
            "2021-04-14 04:20:43 (7.31 MB/s) - ‘data/price.csv’ saved [53592/53592]\n",
            "\n"
          ],
          "name": "stdout"
        }
      ]
    },
    {
      "cell_type": "code",
      "metadata": {
        "colab": {
          "base_uri": "https://localhost:8080/"
        },
        "id": "NZUa980wfcIu",
        "outputId": "acc424db-4cb4-4f8e-8f22-aecf02d53e2d"
      },
      "source": [
        "price.drop(\"Observation\", axis=1, inplace=True)\n",
        "price.drop_duplicates(inplace=True)\n",
        "price['Parking'] = price['Parking'].astype('category')\n",
        "price['City_Category'] = price['City_Category'].astype('category')\n",
        "price2 = price[np.abs(price.House_Price - price.House_Price.mean())<=(2*price.House_Price.std())]\n",
        "price2.info()"
      ],
      "execution_count": null,
      "outputs": [
        {
          "output_type": "stream",
          "text": [
            "<class 'pandas.core.frame.DataFrame'>\n",
            "Int64Index: 931 entries, 0 to 931\n",
            "Data columns (total 9 columns):\n",
            " #   Column         Non-Null Count  Dtype   \n",
            "---  ------         --------------  -----   \n",
            " 0   Dist_Taxi      918 non-null    float64 \n",
            " 1   Dist_Market    918 non-null    float64 \n",
            " 2   Dist_Hospital  930 non-null    float64 \n",
            " 3   Carpet         923 non-null    float64 \n",
            " 4   Builtup        916 non-null    float64 \n",
            " 5   Parking        931 non-null    category\n",
            " 6   City_Category  931 non-null    category\n",
            " 7   Rainfall       931 non-null    int64   \n",
            " 8   House_Price    931 non-null    int64   \n",
            "dtypes: category(2), float64(5), int64(2)\n",
            "memory usage: 60.3 KB\n"
          ],
          "name": "stdout"
        }
      ]
    },
    {
      "cell_type": "code",
      "metadata": {
        "colab": {
          "base_uri": "https://localhost:8080/",
          "height": 285
        },
        "id": "I9sb9Go6eX3-",
        "outputId": "5a48350c-480f-4c0c-eaed-16d02a70f95b"
      },
      "source": [
        "# BoxPlots\n",
        "p = sns.boxplot(x=\"House_Price\", y=\"Parking\", data=price2)"
      ],
      "execution_count": null,
      "outputs": [
        {
          "output_type": "display_data",
          "data": {
            "image/png": "[encoded data removed]",
            "text/plain": [
              "<Figure size 432x288 with 1 Axes>"
            ]
          },
          "metadata": {
            "tags": []
          }
        }
      ]
    },
    {
      "cell_type": "code",
      "metadata": {
        "colab": {
          "base_uri": "https://localhost:8080/",
          "height": 80
        },
        "id": "a0yw8aaLfQyB",
        "outputId": "6bd2646d-fa0c-4322-a6f0-bf2583cf435b"
      },
      "source": [
        "#TUGAS 01 KELOMPOK B\n",
        "#Mengeluarkan outlier atas\n",
        "\n",
        "q1 = price2['House_Price'].quantile(0.25)    #untuk mendapatkan kuartil bawah dari data\n",
        "q3 = price2['House_Price'].quantile(0.75)    #untuk mendapatkan kuartil atas dari data\n",
        "IQR = q3 - q1                                #meng-eliminasi kuartil atas dengan kuartil bawah sehingga di dapat interquartile range (IQR)\n",
        "\n",
        "outlier_atas = price2['House_Price']>q3+(1.5)*IQR    #untuk mendapatkan outlier atas, pada boxplot dapat kita lihat bahwa outlier berada pada angka yang lebih besar dari q3 + (1.5)*IQR\n",
        "data_outlier_atas = price2.loc[outlier_atas]         #untuk mengeluarkan outlier atas dari data dan di simpan dalam variabel data_outlier_atas\n",
        "data_outlier_atas                                    #untuk menampilkan data outlier yang dikeluarkan"
      ],
      "execution_count": null,
      "outputs": [
        {
          "output_type": "execute_result",
          "data": {
            "text/html": [
              "<div>\n",
              "<style scoped>\n",
              "    .dataframe tbody tr th:only-of-type {\n",
              "        vertical-align: middle;\n",
              "    }\n",
              "\n",
              "    .dataframe tbody tr th {\n",
              "        vertical-align: top;\n",
              "    }\n",
              "\n",
              "    .dataframe thead th {\n",
              "        text-align: right;\n",
              "    }\n",
              "</style>\n",
              "<table border=\"1\" class=\"dataframe\">\n",
              "  <thead>\n",
              "    <tr style=\"text-align: right;\">\n",
              "      <th></th>\n",
              "      <th>Dist_Taxi</th>\n",
              "      <th>Dist_Market</th>\n",
              "      <th>Dist_Hospital</th>\n",
              "      <th>Carpet</th>\n",
              "      <th>Builtup</th>\n",
              "      <th>Parking</th>\n",
              "      <th>City_Category</th>\n",
              "      <th>Rainfall</th>\n",
              "      <th>House_Price</th>\n",
              "    </tr>\n",
              "  </thead>\n",
              "  <tbody>\n",
              "    <tr>\n",
              "      <th>678</th>\n",
              "      <td>7288.0</td>\n",
              "      <td>9560.0</td>\n",
              "      <td>12531.0</td>\n",
              "      <td>1989.0</td>\n",
              "      <td>2414.0</td>\n",
              "      <td>No Parking</td>\n",
              "      <td>CAT A</td>\n",
              "      <td>860</td>\n",
              "      <td>11632000</td>\n",
              "    </tr>\n",
              "  </tbody>\n",
              "</table>\n",
              "</div>"
            ],
            "text/plain": [
              "     Dist_Taxi  Dist_Market  Dist_Hospital  ...  City_Category  Rainfall House_Price\n",
              "678     7288.0       9560.0        12531.0  ...          CAT A       860    11632000\n",
              "\n",
              "[1 rows x 9 columns]"
            ]
          },
          "metadata": {
            "tags": []
          },
          "execution_count": 8
        }
      ]
    },
    {
      "cell_type": "markdown",
      "metadata": {
        "id": "YiOEJrTIi2ed"
      },
      "source": [
        "### **TUGAS 2**"
      ]
    },
    {
      "cell_type": "code",
      "metadata": {
        "id": "S5I5hjVfmVSz"
      },
      "source": [
        "#TUGAS 02 KELOMPOK B\n",
        "#Mengeluarkan outlier bawah\n"
      ],
      "execution_count": null,
      "outputs": []
    },
    {
      "cell_type": "code",
      "metadata": {
        "id": "eB_G40aCmeWj"
      },
      "source": [
        "try:\n",
        "    # Running Locally \n",
        "    df = pd.read_csv('data/price.csv')\n",
        "except:\n",
        "    # Running in Google Colab\n",
        "    !mkdir data\n",
        "    !wget -P data/ https://raw.githubusercontent.com/taudata-indonesia/eLearning/master/data/price.csv\n",
        "    df = pd.read_csv('data/price.csv')"
      ],
      "execution_count": null,
      "outputs": []
    },
    {
      "cell_type": "code",
      "metadata": {
        "colab": {
          "base_uri": "https://localhost:8080/",
          "height": 415
        },
        "id": "kH6OM5JamxqQ",
        "outputId": "52792bb7-4867-4b1b-c075-3d8ac1c55836"
      },
      "source": [
        "df #menampilkan data dalam bentuk tabel"
      ],
      "execution_count": null,
      "outputs": [
        {
          "output_type": "execute_result",
          "data": {
            "text/html": [
              "<div>\n",
              "<style scoped>\n",
              "    .dataframe tbody tr th:only-of-type {\n",
              "        vertical-align: middle;\n",
              "    }\n",
              "\n",
              "    .dataframe tbody tr th {\n",
              "        vertical-align: top;\n",
              "    }\n",
              "\n",
              "    .dataframe thead th {\n",
              "        text-align: right;\n",
              "    }\n",
              "</style>\n",
              "<table border=\"1\" class=\"dataframe\">\n",
              "  <thead>\n",
              "    <tr style=\"text-align: right;\">\n",
              "      <th></th>\n",
              "      <th>Observation</th>\n",
              "      <th>Dist_Taxi</th>\n",
              "      <th>Dist_Market</th>\n",
              "      <th>Dist_Hospital</th>\n",
              "      <th>Carpet</th>\n",
              "      <th>Builtup</th>\n",
              "      <th>Parking</th>\n",
              "      <th>City_Category</th>\n",
              "      <th>Rainfall</th>\n",
              "      <th>House_Price</th>\n",
              "    </tr>\n",
              "  </thead>\n",
              "  <tbody>\n",
              "    <tr>\n",
              "      <th>0</th>\n",
              "      <td>1</td>\n",
              "      <td>9796.0</td>\n",
              "      <td>5250.0</td>\n",
              "      <td>10703.0</td>\n",
              "      <td>1659.0</td>\n",
              "      <td>1961.0</td>\n",
              "      <td>Open</td>\n",
              "      <td>CAT B</td>\n",
              "      <td>530</td>\n",
              "      <td>6649000</td>\n",
              "    </tr>\n",
              "    <tr>\n",
              "      <th>1</th>\n",
              "      <td>2</td>\n",
              "      <td>8294.0</td>\n",
              "      <td>8186.0</td>\n",
              "      <td>12694.0</td>\n",
              "      <td>1461.0</td>\n",
              "      <td>1752.0</td>\n",
              "      <td>Not Provided</td>\n",
              "      <td>CAT B</td>\n",
              "      <td>210</td>\n",
              "      <td>3982000</td>\n",
              "    </tr>\n",
              "    <tr>\n",
              "      <th>2</th>\n",
              "      <td>3</td>\n",
              "      <td>11001.0</td>\n",
              "      <td>14399.0</td>\n",
              "      <td>16991.0</td>\n",
              "      <td>1340.0</td>\n",
              "      <td>1609.0</td>\n",
              "      <td>Not Provided</td>\n",
              "      <td>CAT A</td>\n",
              "      <td>720</td>\n",
              "      <td>5401000</td>\n",
              "    </tr>\n",
              "    <tr>\n",
              "      <th>3</th>\n",
              "      <td>4</td>\n",
              "      <td>8301.0</td>\n",
              "      <td>11188.0</td>\n",
              "      <td>12289.0</td>\n",
              "      <td>1451.0</td>\n",
              "      <td>1748.0</td>\n",
              "      <td>Covered</td>\n",
              "      <td>CAT B</td>\n",
              "      <td>620</td>\n",
              "      <td>5373000</td>\n",
              "    </tr>\n",
              "    <tr>\n",
              "      <th>4</th>\n",
              "      <td>5</td>\n",
              "      <td>10510.0</td>\n",
              "      <td>12629.0</td>\n",
              "      <td>13921.0</td>\n",
              "      <td>1770.0</td>\n",
              "      <td>2111.0</td>\n",
              "      <td>Not Provided</td>\n",
              "      <td>CAT B</td>\n",
              "      <td>450</td>\n",
              "      <td>4662000</td>\n",
              "    </tr>\n",
              "    <tr>\n",
              "      <th>...</th>\n",
              "      <td>...</td>\n",
              "      <td>...</td>\n",
              "      <td>...</td>\n",
              "      <td>...</td>\n",
              "      <td>...</td>\n",
              "      <td>...</td>\n",
              "      <td>...</td>\n",
              "      <td>...</td>\n",
              "      <td>...</td>\n",
              "      <td>...</td>\n",
              "    </tr>\n",
              "    <tr>\n",
              "      <th>931</th>\n",
              "      <td>932</td>\n",
              "      <td>9297.0</td>\n",
              "      <td>12537.0</td>\n",
              "      <td>14418.0</td>\n",
              "      <td>1174.0</td>\n",
              "      <td>1429.0</td>\n",
              "      <td>Covered</td>\n",
              "      <td>CAT C</td>\n",
              "      <td>1110</td>\n",
              "      <td>5434000</td>\n",
              "    </tr>\n",
              "    <tr>\n",
              "      <th>932</th>\n",
              "      <td>933</td>\n",
              "      <td>10915.0</td>\n",
              "      <td>17486.0</td>\n",
              "      <td>15964.0</td>\n",
              "      <td>1549.0</td>\n",
              "      <td>1851.0</td>\n",
              "      <td>Not Provided</td>\n",
              "      <td>CAT C</td>\n",
              "      <td>1220</td>\n",
              "      <td>7062000</td>\n",
              "    </tr>\n",
              "    <tr>\n",
              "      <th>933</th>\n",
              "      <td>934</td>\n",
              "      <td>9205.0</td>\n",
              "      <td>10418.0</td>\n",
              "      <td>14496.0</td>\n",
              "      <td>1118.0</td>\n",
              "      <td>1337.0</td>\n",
              "      <td>Open</td>\n",
              "      <td>CAT A</td>\n",
              "      <td>560</td>\n",
              "      <td>7227000</td>\n",
              "    </tr>\n",
              "    <tr>\n",
              "      <th>934</th>\n",
              "      <td>935</td>\n",
              "      <td>10915.0</td>\n",
              "      <td>17486.0</td>\n",
              "      <td>15964.0</td>\n",
              "      <td>1549.0</td>\n",
              "      <td>1851.0</td>\n",
              "      <td>Not Provided</td>\n",
              "      <td>CAT C</td>\n",
              "      <td>1220</td>\n",
              "      <td>7062000</td>\n",
              "    </tr>\n",
              "    <tr>\n",
              "      <th>935</th>\n",
              "      <td>936</td>\n",
              "      <td>10915.0</td>\n",
              "      <td>17486.0</td>\n",
              "      <td>15964.0</td>\n",
              "      <td>1549.0</td>\n",
              "      <td>1851.0</td>\n",
              "      <td>Not Provided</td>\n",
              "      <td>CAT C</td>\n",
              "      <td>1220</td>\n",
              "      <td>7062000</td>\n",
              "    </tr>\n",
              "  </tbody>\n",
              "</table>\n",
              "<p>936 rows × 10 columns</p>\n",
              "</div>"
            ],
            "text/plain": [
              "     Observation  Dist_Taxi  Dist_Market  ...  City_Category  Rainfall  House_Price\n",
              "0              1     9796.0       5250.0  ...          CAT B       530      6649000\n",
              "1              2     8294.0       8186.0  ...          CAT B       210      3982000\n",
              "2              3    11001.0      14399.0  ...          CAT A       720      5401000\n",
              "3              4     8301.0      11188.0  ...          CAT B       620      5373000\n",
              "4              5    10510.0      12629.0  ...          CAT B       450      4662000\n",
              "..           ...        ...          ...  ...            ...       ...          ...\n",
              "931          932     9297.0      12537.0  ...          CAT C      1110      5434000\n",
              "932          933    10915.0      17486.0  ...          CAT C      1220      7062000\n",
              "933          934     9205.0      10418.0  ...          CAT A       560      7227000\n",
              "934          935    10915.0      17486.0  ...          CAT C      1220      7062000\n",
              "935          936    10915.0      17486.0  ...          CAT C      1220      7062000\n",
              "\n",
              "[936 rows x 10 columns]"
            ]
          },
          "metadata": {
            "tags": []
          },
          "execution_count": 5
        }
      ]
    },
    {
      "cell_type": "code",
      "metadata": {
        "colab": {
          "base_uri": "https://localhost:8080/"
        },
        "id": "ysXBMpM1nZDB",
        "outputId": "821ad900-b9da-40da-dd16-bc4b0253b7c1"
      },
      "source": [
        "Q1 = df['House_Price'].quantile(0.25) #menghitung kuartil bawah dari data\n",
        "Q3 = df['House_Price'].quantile(0.75) #menghitung kuartil atas dari data\n",
        "IQR = Q3 - Q1                         #meng-eliminasi kuartil atas dengan kuartil bawah sehingga di dapat interquartile range (IQR)\n",
        "\n",
        "print(\"Q1 = {}, Q3 = {}, IQR = {}\".format(Q1, Q3, IQR)) #menampilkan kuartil bawah, kuartil atas, dan nilai interquartile range"
      ],
      "execution_count": null,
      "outputs": [
        {
          "output_type": "stream",
          "text": [
            "Q1 = 4661000.0, Q3 = 7187250.0, IQR = 2526250.0\n"
          ],
          "name": "stdout"
        }
      ]
    },
    {
      "cell_type": "code",
      "metadata": {
        "colab": {
          "base_uri": "https://localhost:8080/"
        },
        "id": "1dk5KGjdqg9L",
        "outputId": "daee6be9-77a0-4c57-c883-9f1acd62fb30"
      },
      "source": [
        " #mencari range, apabila di luar dari range maka itu adalah outliers\n",
        " Lower_bound = Q1 - 1.5*IQR\n",
        " Upper_bound = Q3 + 1.5*IQR\n",
        " print(\"Lower_bound = {}, Upper_bound = {}\".format(Lower_bound, Upper_bound))"
      ],
      "execution_count": null,
      "outputs": [
        {
          "output_type": "stream",
          "text": [
            "Lower_bound = 871625.0, Upper_bound = 10976625.0\n"
          ],
          "name": "stdout"
        }
      ]
    },
    {
      "cell_type": "code",
      "metadata": {
        "colab": {
          "base_uri": "https://localhost:8080/",
          "height": 141
        },
        "id": "oATzQVnoq8HN",
        "outputId": "e89b7d6d-766f-4970-f3f0-e20002f74257"
      },
      "source": [
        " #mendeteksi outliers_ = df[(df.House_Price<Lower_limit)|(df.House_Price>Upper_limit)]\n",
        " outliers_ =  df[(df.House_Price<Lower_bound)|(df.House_Price>Upper_bound)]\n",
        " outliers_"
      ],
      "execution_count": null,
      "outputs": [
        {
          "output_type": "execute_result",
          "data": {
            "text/html": [
              "<div>\n",
              "<style scoped>\n",
              "    .dataframe tbody tr th:only-of-type {\n",
              "        vertical-align: middle;\n",
              "    }\n",
              "\n",
              "    .dataframe tbody tr th {\n",
              "        vertical-align: top;\n",
              "    }\n",
              "\n",
              "    .dataframe thead th {\n",
              "        text-align: right;\n",
              "    }\n",
              "</style>\n",
              "<table border=\"1\" class=\"dataframe\">\n",
              "  <thead>\n",
              "    <tr style=\"text-align: right;\">\n",
              "      <th></th>\n",
              "      <th>Observation</th>\n",
              "      <th>Dist_Taxi</th>\n",
              "      <th>Dist_Market</th>\n",
              "      <th>Dist_Hospital</th>\n",
              "      <th>Carpet</th>\n",
              "      <th>Builtup</th>\n",
              "      <th>Parking</th>\n",
              "      <th>City_Category</th>\n",
              "      <th>Rainfall</th>\n",
              "      <th>House_Price</th>\n",
              "    </tr>\n",
              "  </thead>\n",
              "  <tbody>\n",
              "    <tr>\n",
              "      <th>360</th>\n",
              "      <td>361</td>\n",
              "      <td>20662.0</td>\n",
              "      <td>20945.0</td>\n",
              "      <td>23294.0</td>\n",
              "      <td>24300.0</td>\n",
              "      <td>12730.0</td>\n",
              "      <td>Covered</td>\n",
              "      <td>CAT B</td>\n",
              "      <td>1130</td>\n",
              "      <td>150000000</td>\n",
              "    </tr>\n",
              "    <tr>\n",
              "      <th>678</th>\n",
              "      <td>679</td>\n",
              "      <td>7288.0</td>\n",
              "      <td>9560.0</td>\n",
              "      <td>12531.0</td>\n",
              "      <td>1989.0</td>\n",
              "      <td>2414.0</td>\n",
              "      <td>No Parking</td>\n",
              "      <td>CAT A</td>\n",
              "      <td>860</td>\n",
              "      <td>11632000</td>\n",
              "    </tr>\n",
              "    <tr>\n",
              "      <th>811</th>\n",
              "      <td>812</td>\n",
              "      <td>NaN</td>\n",
              "      <td>NaN</td>\n",
              "      <td>NaN</td>\n",
              "      <td>NaN</td>\n",
              "      <td>NaN</td>\n",
              "      <td>Open</td>\n",
              "      <td>CAT A</td>\n",
              "      <td>440</td>\n",
              "      <td>30000</td>\n",
              "    </tr>\n",
              "  </tbody>\n",
              "</table>\n",
              "</div>"
            ],
            "text/plain": [
              "     Observation  Dist_Taxi  Dist_Market  ...  City_Category  Rainfall  House_Price\n",
              "360          361    20662.0      20945.0  ...          CAT B      1130    150000000\n",
              "678          679     7288.0       9560.0  ...          CAT A       860     11632000\n",
              "811          812        NaN          NaN  ...          CAT A       440        30000\n",
              "\n",
              "[3 rows x 10 columns]"
            ]
          },
          "metadata": {
            "tags": []
          },
          "execution_count": 10
        }
      ]
    },
    {
      "cell_type": "code",
      "metadata": {
        "colab": {
          "base_uri": "https://localhost:8080/",
          "height": 415
        },
        "id": "DDqMRbcLs7aI",
        "outputId": "1a730cd6-19d1-427c-ec27-ac39d515b3b7"
      },
      "source": [
        "# membuang semua outliers yang ada pada data\n",
        "df_tanpa_outliers = df[(df.House_Price>Lower_bound)&(df.House_Price<Upper_bound)]\n",
        "df_tanpa_outliers"
      ],
      "execution_count": null,
      "outputs": [
        {
          "output_type": "execute_result",
          "data": {
            "text/html": [
              "<div>\n",
              "<style scoped>\n",
              "    .dataframe tbody tr th:only-of-type {\n",
              "        vertical-align: middle;\n",
              "    }\n",
              "\n",
              "    .dataframe tbody tr th {\n",
              "        vertical-align: top;\n",
              "    }\n",
              "\n",
              "    .dataframe thead th {\n",
              "        text-align: right;\n",
              "    }\n",
              "</style>\n",
              "<table border=\"1\" class=\"dataframe\">\n",
              "  <thead>\n",
              "    <tr style=\"text-align: right;\">\n",
              "      <th></th>\n",
              "      <th>Observation</th>\n",
              "      <th>Dist_Taxi</th>\n",
              "      <th>Dist_Market</th>\n",
              "      <th>Dist_Hospital</th>\n",
              "      <th>Carpet</th>\n",
              "      <th>Builtup</th>\n",
              "      <th>Parking</th>\n",
              "      <th>City_Category</th>\n",
              "      <th>Rainfall</th>\n",
              "      <th>House_Price</th>\n",
              "    </tr>\n",
              "  </thead>\n",
              "  <tbody>\n",
              "    <tr>\n",
              "      <th>0</th>\n",
              "      <td>1</td>\n",
              "      <td>9796.0</td>\n",
              "      <td>5250.0</td>\n",
              "      <td>10703.0</td>\n",
              "      <td>1659.0</td>\n",
              "      <td>1961.0</td>\n",
              "      <td>Open</td>\n",
              "      <td>CAT B</td>\n",
              "      <td>530</td>\n",
              "      <td>6649000</td>\n",
              "    </tr>\n",
              "    <tr>\n",
              "      <th>1</th>\n",
              "      <td>2</td>\n",
              "      <td>8294.0</td>\n",
              "      <td>8186.0</td>\n",
              "      <td>12694.0</td>\n",
              "      <td>1461.0</td>\n",
              "      <td>1752.0</td>\n",
              "      <td>Not Provided</td>\n",
              "      <td>CAT B</td>\n",
              "      <td>210</td>\n",
              "      <td>3982000</td>\n",
              "    </tr>\n",
              "    <tr>\n",
              "      <th>2</th>\n",
              "      <td>3</td>\n",
              "      <td>11001.0</td>\n",
              "      <td>14399.0</td>\n",
              "      <td>16991.0</td>\n",
              "      <td>1340.0</td>\n",
              "      <td>1609.0</td>\n",
              "      <td>Not Provided</td>\n",
              "      <td>CAT A</td>\n",
              "      <td>720</td>\n",
              "      <td>5401000</td>\n",
              "    </tr>\n",
              "    <tr>\n",
              "      <th>3</th>\n",
              "      <td>4</td>\n",
              "      <td>8301.0</td>\n",
              "      <td>11188.0</td>\n",
              "      <td>12289.0</td>\n",
              "      <td>1451.0</td>\n",
              "      <td>1748.0</td>\n",
              "      <td>Covered</td>\n",
              "      <td>CAT B</td>\n",
              "      <td>620</td>\n",
              "      <td>5373000</td>\n",
              "    </tr>\n",
              "    <tr>\n",
              "      <th>4</th>\n",
              "      <td>5</td>\n",
              "      <td>10510.0</td>\n",
              "      <td>12629.0</td>\n",
              "      <td>13921.0</td>\n",
              "      <td>1770.0</td>\n",
              "      <td>2111.0</td>\n",
              "      <td>Not Provided</td>\n",
              "      <td>CAT B</td>\n",
              "      <td>450</td>\n",
              "      <td>4662000</td>\n",
              "    </tr>\n",
              "    <tr>\n",
              "      <th>...</th>\n",
              "      <td>...</td>\n",
              "      <td>...</td>\n",
              "      <td>...</td>\n",
              "      <td>...</td>\n",
              "      <td>...</td>\n",
              "      <td>...</td>\n",
              "      <td>...</td>\n",
              "      <td>...</td>\n",
              "      <td>...</td>\n",
              "      <td>...</td>\n",
              "    </tr>\n",
              "    <tr>\n",
              "      <th>931</th>\n",
              "      <td>932</td>\n",
              "      <td>9297.0</td>\n",
              "      <td>12537.0</td>\n",
              "      <td>14418.0</td>\n",
              "      <td>1174.0</td>\n",
              "      <td>1429.0</td>\n",
              "      <td>Covered</td>\n",
              "      <td>CAT C</td>\n",
              "      <td>1110</td>\n",
              "      <td>5434000</td>\n",
              "    </tr>\n",
              "    <tr>\n",
              "      <th>932</th>\n",
              "      <td>933</td>\n",
              "      <td>10915.0</td>\n",
              "      <td>17486.0</td>\n",
              "      <td>15964.0</td>\n",
              "      <td>1549.0</td>\n",
              "      <td>1851.0</td>\n",
              "      <td>Not Provided</td>\n",
              "      <td>CAT C</td>\n",
              "      <td>1220</td>\n",
              "      <td>7062000</td>\n",
              "    </tr>\n",
              "    <tr>\n",
              "      <th>933</th>\n",
              "      <td>934</td>\n",
              "      <td>9205.0</td>\n",
              "      <td>10418.0</td>\n",
              "      <td>14496.0</td>\n",
              "      <td>1118.0</td>\n",
              "      <td>1337.0</td>\n",
              "      <td>Open</td>\n",
              "      <td>CAT A</td>\n",
              "      <td>560</td>\n",
              "      <td>7227000</td>\n",
              "    </tr>\n",
              "    <tr>\n",
              "      <th>934</th>\n",
              "      <td>935</td>\n",
              "      <td>10915.0</td>\n",
              "      <td>17486.0</td>\n",
              "      <td>15964.0</td>\n",
              "      <td>1549.0</td>\n",
              "      <td>1851.0</td>\n",
              "      <td>Not Provided</td>\n",
              "      <td>CAT C</td>\n",
              "      <td>1220</td>\n",
              "      <td>7062000</td>\n",
              "    </tr>\n",
              "    <tr>\n",
              "      <th>935</th>\n",
              "      <td>936</td>\n",
              "      <td>10915.0</td>\n",
              "      <td>17486.0</td>\n",
              "      <td>15964.0</td>\n",
              "      <td>1549.0</td>\n",
              "      <td>1851.0</td>\n",
              "      <td>Not Provided</td>\n",
              "      <td>CAT C</td>\n",
              "      <td>1220</td>\n",
              "      <td>7062000</td>\n",
              "    </tr>\n",
              "  </tbody>\n",
              "</table>\n",
              "<p>933 rows × 10 columns</p>\n",
              "</div>"
            ],
            "text/plain": [
              "     Observation  Dist_Taxi  Dist_Market  ...  City_Category  Rainfall  House_Price\n",
              "0              1     9796.0       5250.0  ...          CAT B       530      6649000\n",
              "1              2     8294.0       8186.0  ...          CAT B       210      3982000\n",
              "2              3    11001.0      14399.0  ...          CAT A       720      5401000\n",
              "3              4     8301.0      11188.0  ...          CAT B       620      5373000\n",
              "4              5    10510.0      12629.0  ...          CAT B       450      4662000\n",
              "..           ...        ...          ...  ...            ...       ...          ...\n",
              "931          932     9297.0      12537.0  ...          CAT C      1110      5434000\n",
              "932          933    10915.0      17486.0  ...          CAT C      1220      7062000\n",
              "933          934     9205.0      10418.0  ...          CAT A       560      7227000\n",
              "934          935    10915.0      17486.0  ...          CAT C      1220      7062000\n",
              "935          936    10915.0      17486.0  ...          CAT C      1220      7062000\n",
              "\n",
              "[933 rows x 10 columns]"
            ]
          },
          "metadata": {
            "tags": []
          },
          "execution_count": 11
        }
      ]
    },
    {
      "cell_type": "code",
      "metadata": {
        "colab": {
          "base_uri": "https://localhost:8080/",
          "height": 280
        },
        "id": "DYuct04_tG3y",
        "outputId": "0da173dd-bb71-439e-cc67-541258d78a9c"
      },
      "source": [
        "#boxplot tanpa outliers\n",
        "p = sns.boxplot(x=\"House_Price\", y=\"Parking\", data= df_tanpa_outliers) "
      ],
      "execution_count": null,
      "outputs": [
        {
          "output_type": "display_data",
          "data": {
            "image/png": "[encoded data removed]",
            "text/plain": [
              "<Figure size 432x288 with 1 Axes>"
            ]
          },
          "metadata": {
            "tags": [],
            "needs_background": "light"
          }
        }
      ]
    },
    {
      "cell_type": "code",
      "metadata": {
        "id": "fMzm3TRHtU47",
        "colab": {
          "base_uri": "https://localhost:8080/",
          "height": 415
        },
        "outputId": "35e6fbd2-e2bd-4ed9-c484-fce43cfec889"
      },
      "source": [
        "#Tugas 02\n",
        "#mengeluarkan outliers bawah\n",
        "df_tanpa_outliers_bawah = df[(df.House_Price>Lower_bound)]\n",
        "df_tanpa_outliers_bawah"
      ],
      "execution_count": null,
      "outputs": [
        {
          "output_type": "execute_result",
          "data": {
            "text/html": [
              "<div>\n",
              "<style scoped>\n",
              "    .dataframe tbody tr th:only-of-type {\n",
              "        vertical-align: middle;\n",
              "    }\n",
              "\n",
              "    .dataframe tbody tr th {\n",
              "        vertical-align: top;\n",
              "    }\n",
              "\n",
              "    .dataframe thead th {\n",
              "        text-align: right;\n",
              "    }\n",
              "</style>\n",
              "<table border=\"1\" class=\"dataframe\">\n",
              "  <thead>\n",
              "    <tr style=\"text-align: right;\">\n",
              "      <th></th>\n",
              "      <th>Observation</th>\n",
              "      <th>Dist_Taxi</th>\n",
              "      <th>Dist_Market</th>\n",
              "      <th>Dist_Hospital</th>\n",
              "      <th>Carpet</th>\n",
              "      <th>Builtup</th>\n",
              "      <th>Parking</th>\n",
              "      <th>City_Category</th>\n",
              "      <th>Rainfall</th>\n",
              "      <th>House_Price</th>\n",
              "    </tr>\n",
              "  </thead>\n",
              "  <tbody>\n",
              "    <tr>\n",
              "      <th>0</th>\n",
              "      <td>1</td>\n",
              "      <td>9796.0</td>\n",
              "      <td>5250.0</td>\n",
              "      <td>10703.0</td>\n",
              "      <td>1659.0</td>\n",
              "      <td>1961.0</td>\n",
              "      <td>Open</td>\n",
              "      <td>CAT B</td>\n",
              "      <td>530</td>\n",
              "      <td>6649000</td>\n",
              "    </tr>\n",
              "    <tr>\n",
              "      <th>1</th>\n",
              "      <td>2</td>\n",
              "      <td>8294.0</td>\n",
              "      <td>8186.0</td>\n",
              "      <td>12694.0</td>\n",
              "      <td>1461.0</td>\n",
              "      <td>1752.0</td>\n",
              "      <td>Not Provided</td>\n",
              "      <td>CAT B</td>\n",
              "      <td>210</td>\n",
              "      <td>3982000</td>\n",
              "    </tr>\n",
              "    <tr>\n",
              "      <th>2</th>\n",
              "      <td>3</td>\n",
              "      <td>11001.0</td>\n",
              "      <td>14399.0</td>\n",
              "      <td>16991.0</td>\n",
              "      <td>1340.0</td>\n",
              "      <td>1609.0</td>\n",
              "      <td>Not Provided</td>\n",
              "      <td>CAT A</td>\n",
              "      <td>720</td>\n",
              "      <td>5401000</td>\n",
              "    </tr>\n",
              "    <tr>\n",
              "      <th>3</th>\n",
              "      <td>4</td>\n",
              "      <td>8301.0</td>\n",
              "      <td>11188.0</td>\n",
              "      <td>12289.0</td>\n",
              "      <td>1451.0</td>\n",
              "      <td>1748.0</td>\n",
              "      <td>Covered</td>\n",
              "      <td>CAT B</td>\n",
              "      <td>620</td>\n",
              "      <td>5373000</td>\n",
              "    </tr>\n",
              "    <tr>\n",
              "      <th>4</th>\n",
              "      <td>5</td>\n",
              "      <td>10510.0</td>\n",
              "      <td>12629.0</td>\n",
              "      <td>13921.0</td>\n",
              "      <td>1770.0</td>\n",
              "      <td>2111.0</td>\n",
              "      <td>Not Provided</td>\n",
              "      <td>CAT B</td>\n",
              "      <td>450</td>\n",
              "      <td>4662000</td>\n",
              "    </tr>\n",
              "    <tr>\n",
              "      <th>...</th>\n",
              "      <td>...</td>\n",
              "      <td>...</td>\n",
              "      <td>...</td>\n",
              "      <td>...</td>\n",
              "      <td>...</td>\n",
              "      <td>...</td>\n",
              "      <td>...</td>\n",
              "      <td>...</td>\n",
              "      <td>...</td>\n",
              "      <td>...</td>\n",
              "    </tr>\n",
              "    <tr>\n",
              "      <th>931</th>\n",
              "      <td>932</td>\n",
              "      <td>9297.0</td>\n",
              "      <td>12537.0</td>\n",
              "      <td>14418.0</td>\n",
              "      <td>1174.0</td>\n",
              "      <td>1429.0</td>\n",
              "      <td>Covered</td>\n",
              "      <td>CAT C</td>\n",
              "      <td>1110</td>\n",
              "      <td>5434000</td>\n",
              "    </tr>\n",
              "    <tr>\n",
              "      <th>932</th>\n",
              "      <td>933</td>\n",
              "      <td>10915.0</td>\n",
              "      <td>17486.0</td>\n",
              "      <td>15964.0</td>\n",
              "      <td>1549.0</td>\n",
              "      <td>1851.0</td>\n",
              "      <td>Not Provided</td>\n",
              "      <td>CAT C</td>\n",
              "      <td>1220</td>\n",
              "      <td>7062000</td>\n",
              "    </tr>\n",
              "    <tr>\n",
              "      <th>933</th>\n",
              "      <td>934</td>\n",
              "      <td>9205.0</td>\n",
              "      <td>10418.0</td>\n",
              "      <td>14496.0</td>\n",
              "      <td>1118.0</td>\n",
              "      <td>1337.0</td>\n",
              "      <td>Open</td>\n",
              "      <td>CAT A</td>\n",
              "      <td>560</td>\n",
              "      <td>7227000</td>\n",
              "    </tr>\n",
              "    <tr>\n",
              "      <th>934</th>\n",
              "      <td>935</td>\n",
              "      <td>10915.0</td>\n",
              "      <td>17486.0</td>\n",
              "      <td>15964.0</td>\n",
              "      <td>1549.0</td>\n",
              "      <td>1851.0</td>\n",
              "      <td>Not Provided</td>\n",
              "      <td>CAT C</td>\n",
              "      <td>1220</td>\n",
              "      <td>7062000</td>\n",
              "    </tr>\n",
              "    <tr>\n",
              "      <th>935</th>\n",
              "      <td>936</td>\n",
              "      <td>10915.0</td>\n",
              "      <td>17486.0</td>\n",
              "      <td>15964.0</td>\n",
              "      <td>1549.0</td>\n",
              "      <td>1851.0</td>\n",
              "      <td>Not Provided</td>\n",
              "      <td>CAT C</td>\n",
              "      <td>1220</td>\n",
              "      <td>7062000</td>\n",
              "    </tr>\n",
              "  </tbody>\n",
              "</table>\n",
              "<p>935 rows × 10 columns</p>\n",
              "</div>"
            ],
            "text/plain": [
              "     Observation  Dist_Taxi  Dist_Market  ...  City_Category  Rainfall  House_Price\n",
              "0              1     9796.0       5250.0  ...          CAT B       530      6649000\n",
              "1              2     8294.0       8186.0  ...          CAT B       210      3982000\n",
              "2              3    11001.0      14399.0  ...          CAT A       720      5401000\n",
              "3              4     8301.0      11188.0  ...          CAT B       620      5373000\n",
              "4              5    10510.0      12629.0  ...          CAT B       450      4662000\n",
              "..           ...        ...          ...  ...            ...       ...          ...\n",
              "931          932     9297.0      12537.0  ...          CAT C      1110      5434000\n",
              "932          933    10915.0      17486.0  ...          CAT C      1220      7062000\n",
              "933          934     9205.0      10418.0  ...          CAT A       560      7227000\n",
              "934          935    10915.0      17486.0  ...          CAT C      1220      7062000\n",
              "935          936    10915.0      17486.0  ...          CAT C      1220      7062000\n",
              "\n",
              "[935 rows x 10 columns]"
            ]
          },
          "metadata": {
            "tags": []
          },
          "execution_count": 17
        }
      ]
    },
    {
      "cell_type": "markdown",
      "metadata": {
        "id": "LO4LfYgm45-r"
      },
      "source": [
        "## **Boxplot Tanpa Outlier Bawah**\n",
        "\n",
        "\n",
        "\n"
      ]
    },
    {
      "cell_type": "code",
      "metadata": {
        "colab": {
          "base_uri": "https://localhost:8080/",
          "height": 280
        },
        "id": "tNezf9TrwRlv",
        "outputId": "2261da3a-37fe-4caf-9a21-6a2704a0c307"
      },
      "source": [
        "#boxplot tanpa outliers bawah\n",
        "p = sns.boxplot(x=\"House_Price\", y=\"Parking\", data= df_tanpa_outliers_bawah) "
      ],
      "execution_count": null,
      "outputs": [
        {
          "output_type": "display_data",
          "data": {
            "image/png": "[encoded data removed]",
            "text/plain": [
              "<Figure size 432x288 with 1 Axes>"
            ]
          },
          "metadata": {
            "tags": [],
            "needs_background": "light"
          }
        }
      ]
    },
    {
      "cell_type": "code",
      "metadata": {
        "colab": {
          "base_uri": "https://localhost:8080/"
        },
        "id": "sBQsR_ogyTNQ",
        "outputId": "2978967b-9c21-4b39-95fc-b6ddea4019a8"
      },
      "source": [
        "#Importing CSV Data\n",
        "\n",
        "!mkdir data\n",
        "!wget -P data/ https://raw.githubusercontent.com/taudata-indonesia/eLearning/master/data/price.csv\n",
        "price = pd.read_csv('data/price.csv')"
      ],
      "execution_count": null,
      "outputs": [
        {
          "output_type": "stream",
          "text": [
            "mkdir: cannot create directory ‘data’: File exists\n",
            "--2021-04-13 10:31:40--  https://raw.githubusercontent.com/taudata-indonesia/eLearning/master/data/price.csv\n",
            "Resolving raw.githubusercontent.com (raw.githubusercontent.com)... 185.199.108.133, 185.199.109.133, 185.199.110.133, ...\n",
            "Connecting to raw.githubusercontent.com (raw.githubusercontent.com)|185.199.108.133|:443... connected.\n",
            "HTTP request sent, awaiting response... 200 OK\n",
            "Length: 53592 (52K) [text/plain]\n",
            "Saving to: ‘data/price.csv.1’\n",
            "\n",
            "price.csv.1         100%[===================>]  52.34K  --.-KB/s    in 0.007s  \n",
            "\n",
            "2021-04-13 10:31:40 (7.35 MB/s) - ‘data/price.csv.1’ saved [53592/53592]\n",
            "\n"
          ],
          "name": "stdout"
        }
      ]
    },
    {
      "cell_type": "code",
      "metadata": {
        "colab": {
          "base_uri": "https://localhost:8080/"
        },
        "id": "Wsy_rwK-yXdD",
        "outputId": "b62fe4ab-1848-4bc4-e255-77144992ecda"
      },
      "source": [
        "price.drop(\"Observation\", axis=1, inplace=True)\n",
        "price.drop_duplicates(inplace=True)\n",
        "price['Parking'] = price['Parking'].astype('category')\n",
        "price['City_Category'] = price['City_Category'].astype('category')\n",
        "price2 = price[np.abs(price.House_Price - price.House_Price.mean())<=(2*price.House_Price.std())]\n",
        "price2.info()"
      ],
      "execution_count": null,
      "outputs": [
        {
          "output_type": "stream",
          "text": [
            "<class 'pandas.core.frame.DataFrame'>\n",
            "Int64Index: 931 entries, 0 to 931\n",
            "Data columns (total 9 columns):\n",
            " #   Column         Non-Null Count  Dtype   \n",
            "---  ------         --------------  -----   \n",
            " 0   Dist_Taxi      918 non-null    float64 \n",
            " 1   Dist_Market    918 non-null    float64 \n",
            " 2   Dist_Hospital  930 non-null    float64 \n",
            " 3   Carpet         923 non-null    float64 \n",
            " 4   Builtup        916 non-null    float64 \n",
            " 5   Parking        931 non-null    category\n",
            " 6   City_Category  931 non-null    category\n",
            " 7   Rainfall       931 non-null    int64   \n",
            " 8   House_Price    931 non-null    int64   \n",
            "dtypes: category(2), float64(5), int64(2)\n",
            "memory usage: 60.3 KB\n"
          ],
          "name": "stdout"
        }
      ]
    },
    {
      "cell_type": "code",
      "metadata": {
        "colab": {
          "base_uri": "https://localhost:8080/",
          "height": 383
        },
        "id": "tCmOC1bQya1r",
        "outputId": "f97baa09-cfe1-4c2d-c0cf-a0240ea8bfce"
      },
      "source": [
        "p = sns.catplot(x=\"Parking\", y=\"House_Price\", hue=\"City_Category\", kind=\"box\", data=price2)"
      ],
      "execution_count": null,
      "outputs": [
        {
          "output_type": "display_data",
          "data": {
            "image/png": "[encoded data removed]",
            "text/plain": [
              "<Figure size 437.875x360 with 1 Axes>"
            ]
          },
          "metadata": {
            "tags": [],
            "needs_background": "light"
          }
        }
      ]
    },
    {
      "cell_type": "code",
      "metadata": {
        "colab": {
          "base_uri": "https://localhost:8080/"
        },
        "id": "DB7sZXOlyzO9",
        "outputId": "5d9d6bc2-85a4-4535-e21c-e191f5402985"
      },
      "source": [
        "q1 = price2['House_Price'].quantile(0.25) #menghitung kuartil bawah dari data\n",
        "q3 = price2['House_Price'].quantile(0.75) #menghitung kuartil atas dari data\n",
        "IQR = q3 - q1                             #meng-eliminasi kuartil atas dengan kuartil bawah sehingga di dapat interquartile range (IQR)\n",
        "\n",
        "print(\"q1 = {}, q3 = {}, IQR = {}\".format(q1, q3, IQR)) #menampilkan kuartil bawah, kuartil atas, dan nilai interquartile range"
      ],
      "execution_count": null,
      "outputs": [
        {
          "output_type": "stream",
          "text": [
            "q1 = 4658000.0, q3 = 7180500.0, IQR = 2522500.0\n"
          ],
          "name": "stdout"
        }
      ]
    },
    {
      "cell_type": "code",
      "metadata": {
        "colab": {
          "base_uri": "https://localhost:8080/"
        },
        "id": "tw2mXckWy_3l",
        "outputId": "3b104407-2416-4458-ed71-e825e0b79662"
      },
      "source": [
        "#mencari range, apabila di luar dari range maka itu adalah outliers\n",
        "Lower_limit = q1 - 1.5*IQR #batas bawah\n",
        "Upper_limit = q3 + 1.5*IQR #batas atas\n",
        "print(\"Lower_limit = {}, Upper_limit = {}\".format(Lower_limit, Upper_limit)) #menampilkan batas atas dan batas bawah"
      ],
      "execution_count": null,
      "outputs": [
        {
          "output_type": "stream",
          "text": [
            "Lower_limit = 874250.0, Upper_limit = 10964250.0\n"
          ],
          "name": "stdout"
        }
      ]
    },
    {
      "cell_type": "code",
      "metadata": {
        "colab": {
          "base_uri": "https://localhost:8080/",
          "height": 110
        },
        "id": "uCQtJS6S2IW4",
        "outputId": "fa659880-0b53-430c-8cf0-9bf884b492ac"
      },
      "source": [
        "#mendeteksi outliers_ = price2[(price2.House_Price<Lower_limit)|(price2.House_Price>Upper_limit)]\n",
        "outliers_ = price2[(price2.House_Price<Lower_limit)|(price2.House_Price>Upper_limit)]\n",
        "outliers_"
      ],
      "execution_count": null,
      "outputs": [
        {
          "output_type": "execute_result",
          "data": {
            "text/html": [
              "<div>\n",
              "<style scoped>\n",
              "    .dataframe tbody tr th:only-of-type {\n",
              "        vertical-align: middle;\n",
              "    }\n",
              "\n",
              "    .dataframe tbody tr th {\n",
              "        vertical-align: top;\n",
              "    }\n",
              "\n",
              "    .dataframe thead th {\n",
              "        text-align: right;\n",
              "    }\n",
              "</style>\n",
              "<table border=\"1\" class=\"dataframe\">\n",
              "  <thead>\n",
              "    <tr style=\"text-align: right;\">\n",
              "      <th></th>\n",
              "      <th>Dist_Taxi</th>\n",
              "      <th>Dist_Market</th>\n",
              "      <th>Dist_Hospital</th>\n",
              "      <th>Carpet</th>\n",
              "      <th>Builtup</th>\n",
              "      <th>Parking</th>\n",
              "      <th>City_Category</th>\n",
              "      <th>Rainfall</th>\n",
              "      <th>House_Price</th>\n",
              "    </tr>\n",
              "  </thead>\n",
              "  <tbody>\n",
              "    <tr>\n",
              "      <th>678</th>\n",
              "      <td>7288.0</td>\n",
              "      <td>9560.0</td>\n",
              "      <td>12531.0</td>\n",
              "      <td>1989.0</td>\n",
              "      <td>2414.0</td>\n",
              "      <td>No Parking</td>\n",
              "      <td>CAT A</td>\n",
              "      <td>860</td>\n",
              "      <td>11632000</td>\n",
              "    </tr>\n",
              "    <tr>\n",
              "      <th>811</th>\n",
              "      <td>NaN</td>\n",
              "      <td>NaN</td>\n",
              "      <td>NaN</td>\n",
              "      <td>NaN</td>\n",
              "      <td>NaN</td>\n",
              "      <td>Open</td>\n",
              "      <td>CAT A</td>\n",
              "      <td>440</td>\n",
              "      <td>30000</td>\n",
              "    </tr>\n",
              "  </tbody>\n",
              "</table>\n",
              "</div>"
            ],
            "text/plain": [
              "     Dist_Taxi  Dist_Market  Dist_Hospital  ...  City_Category  Rainfall House_Price\n",
              "678     7288.0       9560.0        12531.0  ...          CAT A       860    11632000\n",
              "811        NaN          NaN            NaN  ...          CAT A       440       30000\n",
              "\n",
              "[2 rows x 9 columns]"
            ]
          },
          "metadata": {
            "tags": []
          },
          "execution_count": 41
        }
      ]
    },
    {
      "cell_type": "code",
      "metadata": {
        "colab": {
          "base_uri": "https://localhost:8080/",
          "height": 415
        },
        "id": "AVjTZiYC0U3_",
        "outputId": "651d22c6-4a16-4bdf-8725-09f4e911bd63"
      },
      "source": [
        "#Tugas 02\n",
        "#mengeluarkan outliers bawah\n",
        "price2_tanpa_outliers_bawah = price2[(price2.House_Price>Lower_limit)]\n",
        "price2_tanpa_outliers_bawah"
      ],
      "execution_count": null,
      "outputs": [
        {
          "output_type": "execute_result",
          "data": {
            "text/html": [
              "<div>\n",
              "<style scoped>\n",
              "    .dataframe tbody tr th:only-of-type {\n",
              "        vertical-align: middle;\n",
              "    }\n",
              "\n",
              "    .dataframe tbody tr th {\n",
              "        vertical-align: top;\n",
              "    }\n",
              "\n",
              "    .dataframe thead th {\n",
              "        text-align: right;\n",
              "    }\n",
              "</style>\n",
              "<table border=\"1\" class=\"dataframe\">\n",
              "  <thead>\n",
              "    <tr style=\"text-align: right;\">\n",
              "      <th></th>\n",
              "      <th>Dist_Taxi</th>\n",
              "      <th>Dist_Market</th>\n",
              "      <th>Dist_Hospital</th>\n",
              "      <th>Carpet</th>\n",
              "      <th>Builtup</th>\n",
              "      <th>Parking</th>\n",
              "      <th>City_Category</th>\n",
              "      <th>Rainfall</th>\n",
              "      <th>House_Price</th>\n",
              "    </tr>\n",
              "  </thead>\n",
              "  <tbody>\n",
              "    <tr>\n",
              "      <th>0</th>\n",
              "      <td>9796.0</td>\n",
              "      <td>5250.0</td>\n",
              "      <td>10703.0</td>\n",
              "      <td>1659.0</td>\n",
              "      <td>1961.0</td>\n",
              "      <td>Open</td>\n",
              "      <td>CAT B</td>\n",
              "      <td>530</td>\n",
              "      <td>6649000</td>\n",
              "    </tr>\n",
              "    <tr>\n",
              "      <th>1</th>\n",
              "      <td>8294.0</td>\n",
              "      <td>8186.0</td>\n",
              "      <td>12694.0</td>\n",
              "      <td>1461.0</td>\n",
              "      <td>1752.0</td>\n",
              "      <td>Not Provided</td>\n",
              "      <td>CAT B</td>\n",
              "      <td>210</td>\n",
              "      <td>3982000</td>\n",
              "    </tr>\n",
              "    <tr>\n",
              "      <th>2</th>\n",
              "      <td>11001.0</td>\n",
              "      <td>14399.0</td>\n",
              "      <td>16991.0</td>\n",
              "      <td>1340.0</td>\n",
              "      <td>1609.0</td>\n",
              "      <td>Not Provided</td>\n",
              "      <td>CAT A</td>\n",
              "      <td>720</td>\n",
              "      <td>5401000</td>\n",
              "    </tr>\n",
              "    <tr>\n",
              "      <th>3</th>\n",
              "      <td>8301.0</td>\n",
              "      <td>11188.0</td>\n",
              "      <td>12289.0</td>\n",
              "      <td>1451.0</td>\n",
              "      <td>1748.0</td>\n",
              "      <td>Covered</td>\n",
              "      <td>CAT B</td>\n",
              "      <td>620</td>\n",
              "      <td>5373000</td>\n",
              "    </tr>\n",
              "    <tr>\n",
              "      <th>4</th>\n",
              "      <td>10510.0</td>\n",
              "      <td>12629.0</td>\n",
              "      <td>13921.0</td>\n",
              "      <td>1770.0</td>\n",
              "      <td>2111.0</td>\n",
              "      <td>Not Provided</td>\n",
              "      <td>CAT B</td>\n",
              "      <td>450</td>\n",
              "      <td>4662000</td>\n",
              "    </tr>\n",
              "    <tr>\n",
              "      <th>...</th>\n",
              "      <td>...</td>\n",
              "      <td>...</td>\n",
              "      <td>...</td>\n",
              "      <td>...</td>\n",
              "      <td>...</td>\n",
              "      <td>...</td>\n",
              "      <td>...</td>\n",
              "      <td>...</td>\n",
              "      <td>...</td>\n",
              "    </tr>\n",
              "    <tr>\n",
              "      <th>927</th>\n",
              "      <td>12176.0</td>\n",
              "      <td>8518.0</td>\n",
              "      <td>15673.0</td>\n",
              "      <td>1582.0</td>\n",
              "      <td>1910.0</td>\n",
              "      <td>Covered</td>\n",
              "      <td>CAT C</td>\n",
              "      <td>1080</td>\n",
              "      <td>6639000</td>\n",
              "    </tr>\n",
              "    <tr>\n",
              "      <th>928</th>\n",
              "      <td>7214.0</td>\n",
              "      <td>8717.0</td>\n",
              "      <td>10553.0</td>\n",
              "      <td>1387.0</td>\n",
              "      <td>1663.0</td>\n",
              "      <td>Open</td>\n",
              "      <td>CAT A</td>\n",
              "      <td>850</td>\n",
              "      <td>8208000</td>\n",
              "    </tr>\n",
              "    <tr>\n",
              "      <th>929</th>\n",
              "      <td>7423.0</td>\n",
              "      <td>11708.0</td>\n",
              "      <td>13220.0</td>\n",
              "      <td>1200.0</td>\n",
              "      <td>1436.0</td>\n",
              "      <td>Open</td>\n",
              "      <td>CAT A</td>\n",
              "      <td>1060</td>\n",
              "      <td>7644000</td>\n",
              "    </tr>\n",
              "    <tr>\n",
              "      <th>930</th>\n",
              "      <td>15082.0</td>\n",
              "      <td>14700.0</td>\n",
              "      <td>19617.0</td>\n",
              "      <td>1299.0</td>\n",
              "      <td>1560.0</td>\n",
              "      <td>Open</td>\n",
              "      <td>CAT B</td>\n",
              "      <td>770</td>\n",
              "      <td>9661000</td>\n",
              "    </tr>\n",
              "    <tr>\n",
              "      <th>931</th>\n",
              "      <td>9297.0</td>\n",
              "      <td>12537.0</td>\n",
              "      <td>14418.0</td>\n",
              "      <td>1174.0</td>\n",
              "      <td>1429.0</td>\n",
              "      <td>Covered</td>\n",
              "      <td>CAT C</td>\n",
              "      <td>1110</td>\n",
              "      <td>5434000</td>\n",
              "    </tr>\n",
              "  </tbody>\n",
              "</table>\n",
              "<p>930 rows × 9 columns</p>\n",
              "</div>"
            ],
            "text/plain": [
              "     Dist_Taxi  Dist_Market  Dist_Hospital  ...  City_Category  Rainfall House_Price\n",
              "0       9796.0       5250.0        10703.0  ...          CAT B       530     6649000\n",
              "1       8294.0       8186.0        12694.0  ...          CAT B       210     3982000\n",
              "2      11001.0      14399.0        16991.0  ...          CAT A       720     5401000\n",
              "3       8301.0      11188.0        12289.0  ...          CAT B       620     5373000\n",
              "4      10510.0      12629.0        13921.0  ...          CAT B       450     4662000\n",
              "..         ...          ...            ...  ...            ...       ...         ...\n",
              "927    12176.0       8518.0        15673.0  ...          CAT C      1080     6639000\n",
              "928     7214.0       8717.0        10553.0  ...          CAT A       850     8208000\n",
              "929     7423.0      11708.0        13220.0  ...          CAT A      1060     7644000\n",
              "930    15082.0      14700.0        19617.0  ...          CAT B       770     9661000\n",
              "931     9297.0      12537.0        14418.0  ...          CAT C      1110     5434000\n",
              "\n",
              "[930 rows x 9 columns]"
            ]
          },
          "metadata": {
            "tags": []
          },
          "execution_count": 39
        }
      ]
    },
    {
      "cell_type": "markdown",
      "metadata": {
        "id": "V4svmHDy4wwS"
      },
      "source": [
        "### **Boxplot Tanpa Outlier Bawah**"
      ]
    },
    {
      "cell_type": "code",
      "metadata": {
        "colab": {
          "base_uri": "https://localhost:8080/",
          "height": 383
        },
        "id": "VUEeklSl0r-n",
        "outputId": "0f0df6dc-3609-4a70-fe61-4e440265d274"
      },
      "source": [
        "p = sns.catplot(x=\"Parking\", y=\"House_Price\", hue=\"City_Category\", kind=\"box\", data=price2_tanpa_outliers_bawah)"
      ],
      "execution_count": null,
      "outputs": [
        {
          "output_type": "display_data",
          "data": {
            "image/png": "[encoded data removed]",
            "text/plain": [
              "<Figure size 437.875x360 with 1 Axes>"
            ]
          },
          "metadata": {
            "tags": [],
            "needs_background": "light"
          }
        }
      ]
    },
    {
      "cell_type": "code",
      "metadata": {
        "id": "5SsieFTziHaq"
      },
      "source": [
        ""
      ],
      "execution_count": null,
      "outputs": []
    },
    {
      "cell_type": "markdown",
      "metadata": {
        "id": "KEH0XWqdiPJf"
      },
      "source": [
        "## **TUGAS 3**"
      ]
    },
    {
      "cell_type": "code",
      "metadata": {
        "id": "-XO-F6h-Ogg0",
        "colab": {
          "base_uri": "https://localhost:8080/",
          "height": 221
        },
        "outputId": "2ae9c8fe-2bc1-4060-b1b8-628e16b7a22b"
      },
      "source": [
        "import seaborn as sns\n",
        "tips = sns.load_dataset('tips') # Loading dari SeaBorn library's dataset\n",
        "# Ukuran Data\n",
        "N, P = tips.shape\n",
        "print('baris = ', N, ', Kolom = ', P)\n",
        "\n",
        "tips.head()"
      ],
      "execution_count": null,
      "outputs": [
        {
          "output_type": "stream",
          "text": [
            "baris =  244 , Kolom =  7\n"
          ],
          "name": "stdout"
        },
        {
          "output_type": "execute_result",
          "data": {
            "text/html": [
              "<div>\n",
              "<style scoped>\n",
              "    .dataframe tbody tr th:only-of-type {\n",
              "        vertical-align: middle;\n",
              "    }\n",
              "\n",
              "    .dataframe tbody tr th {\n",
              "        vertical-align: top;\n",
              "    }\n",
              "\n",
              "    .dataframe thead th {\n",
              "        text-align: right;\n",
              "    }\n",
              "</style>\n",
              "<table border=\"1\" class=\"dataframe\">\n",
              "  <thead>\n",
              "    <tr style=\"text-align: right;\">\n",
              "      <th></th>\n",
              "      <th>total_bill</th>\n",
              "      <th>tip</th>\n",
              "      <th>sex</th>\n",
              "      <th>smoker</th>\n",
              "      <th>day</th>\n",
              "      <th>time</th>\n",
              "      <th>size</th>\n",
              "    </tr>\n",
              "  </thead>\n",
              "  <tbody>\n",
              "    <tr>\n",
              "      <th>0</th>\n",
              "      <td>16.99</td>\n",
              "      <td>1.01</td>\n",
              "      <td>Female</td>\n",
              "      <td>No</td>\n",
              "      <td>Sun</td>\n",
              "      <td>Dinner</td>\n",
              "      <td>2</td>\n",
              "    </tr>\n",
              "    <tr>\n",
              "      <th>1</th>\n",
              "      <td>10.34</td>\n",
              "      <td>1.66</td>\n",
              "      <td>Male</td>\n",
              "      <td>No</td>\n",
              "      <td>Sun</td>\n",
              "      <td>Dinner</td>\n",
              "      <td>3</td>\n",
              "    </tr>\n",
              "    <tr>\n",
              "      <th>2</th>\n",
              "      <td>21.01</td>\n",
              "      <td>3.50</td>\n",
              "      <td>Male</td>\n",
              "      <td>No</td>\n",
              "      <td>Sun</td>\n",
              "      <td>Dinner</td>\n",
              "      <td>3</td>\n",
              "    </tr>\n",
              "    <tr>\n",
              "      <th>3</th>\n",
              "      <td>23.68</td>\n",
              "      <td>3.31</td>\n",
              "      <td>Male</td>\n",
              "      <td>No</td>\n",
              "      <td>Sun</td>\n",
              "      <td>Dinner</td>\n",
              "      <td>2</td>\n",
              "    </tr>\n",
              "    <tr>\n",
              "      <th>4</th>\n",
              "      <td>24.59</td>\n",
              "      <td>3.61</td>\n",
              "      <td>Female</td>\n",
              "      <td>No</td>\n",
              "      <td>Sun</td>\n",
              "      <td>Dinner</td>\n",
              "      <td>4</td>\n",
              "    </tr>\n",
              "  </tbody>\n",
              "</table>\n",
              "</div>"
            ],
            "text/plain": [
              "   total_bill   tip     sex smoker  day    time  size\n",
              "0       16.99  1.01  Female     No  Sun  Dinner     2\n",
              "1       10.34  1.66    Male     No  Sun  Dinner     3\n",
              "2       21.01  3.50    Male     No  Sun  Dinner     3\n",
              "3       23.68  3.31    Male     No  Sun  Dinner     2\n",
              "4       24.59  3.61  Female     No  Sun  Dinner     4"
            ]
          },
          "metadata": {
            "tags": []
          },
          "execution_count": 6
        }
      ]
    },
    {
      "cell_type": "code",
      "metadata": {
        "id": "uzYmwM2xOsyQ",
        "colab": {
          "base_uri": "https://localhost:8080/",
          "height": 266
        },
        "outputId": "bef33ba5-ad68-4f19-9e4c-2e89ba4152f2"
      },
      "source": [
        "tips.describe(include='all').transpose()"
      ],
      "execution_count": null,
      "outputs": [
        {
          "output_type": "execute_result",
          "data": {
            "text/html": [
              "<div>\n",
              "<style scoped>\n",
              "    .dataframe tbody tr th:only-of-type {\n",
              "        vertical-align: middle;\n",
              "    }\n",
              "\n",
              "    .dataframe tbody tr th {\n",
              "        vertical-align: top;\n",
              "    }\n",
              "\n",
              "    .dataframe thead th {\n",
              "        text-align: right;\n",
              "    }\n",
              "</style>\n",
              "<table border=\"1\" class=\"dataframe\">\n",
              "  <thead>\n",
              "    <tr style=\"text-align: right;\">\n",
              "      <th></th>\n",
              "      <th>count</th>\n",
              "      <th>unique</th>\n",
              "      <th>top</th>\n",
              "      <th>freq</th>\n",
              "      <th>mean</th>\n",
              "      <th>std</th>\n",
              "      <th>min</th>\n",
              "      <th>25%</th>\n",
              "      <th>50%</th>\n",
              "      <th>75%</th>\n",
              "      <th>max</th>\n",
              "    </tr>\n",
              "  </thead>\n",
              "  <tbody>\n",
              "    <tr>\n",
              "      <th>total_bill</th>\n",
              "      <td>244</td>\n",
              "      <td>NaN</td>\n",
              "      <td>NaN</td>\n",
              "      <td>NaN</td>\n",
              "      <td>19.7859</td>\n",
              "      <td>8.90241</td>\n",
              "      <td>3.07</td>\n",
              "      <td>13.3475</td>\n",
              "      <td>17.795</td>\n",
              "      <td>24.1275</td>\n",
              "      <td>50.81</td>\n",
              "    </tr>\n",
              "    <tr>\n",
              "      <th>tip</th>\n",
              "      <td>244</td>\n",
              "      <td>NaN</td>\n",
              "      <td>NaN</td>\n",
              "      <td>NaN</td>\n",
              "      <td>2.99828</td>\n",
              "      <td>1.38364</td>\n",
              "      <td>1</td>\n",
              "      <td>2</td>\n",
              "      <td>2.9</td>\n",
              "      <td>3.5625</td>\n",
              "      <td>10</td>\n",
              "    </tr>\n",
              "    <tr>\n",
              "      <th>sex</th>\n",
              "      <td>244</td>\n",
              "      <td>2</td>\n",
              "      <td>Male</td>\n",
              "      <td>157</td>\n",
              "      <td>NaN</td>\n",
              "      <td>NaN</td>\n",
              "      <td>NaN</td>\n",
              "      <td>NaN</td>\n",
              "      <td>NaN</td>\n",
              "      <td>NaN</td>\n",
              "      <td>NaN</td>\n",
              "    </tr>\n",
              "    <tr>\n",
              "      <th>smoker</th>\n",
              "      <td>244</td>\n",
              "      <td>2</td>\n",
              "      <td>No</td>\n",
              "      <td>151</td>\n",
              "      <td>NaN</td>\n",
              "      <td>NaN</td>\n",
              "      <td>NaN</td>\n",
              "      <td>NaN</td>\n",
              "      <td>NaN</td>\n",
              "      <td>NaN</td>\n",
              "      <td>NaN</td>\n",
              "    </tr>\n",
              "    <tr>\n",
              "      <th>day</th>\n",
              "      <td>244</td>\n",
              "      <td>4</td>\n",
              "      <td>Sat</td>\n",
              "      <td>87</td>\n",
              "      <td>NaN</td>\n",
              "      <td>NaN</td>\n",
              "      <td>NaN</td>\n",
              "      <td>NaN</td>\n",
              "      <td>NaN</td>\n",
              "      <td>NaN</td>\n",
              "      <td>NaN</td>\n",
              "    </tr>\n",
              "    <tr>\n",
              "      <th>time</th>\n",
              "      <td>244</td>\n",
              "      <td>2</td>\n",
              "      <td>Dinner</td>\n",
              "      <td>176</td>\n",
              "      <td>NaN</td>\n",
              "      <td>NaN</td>\n",
              "      <td>NaN</td>\n",
              "      <td>NaN</td>\n",
              "      <td>NaN</td>\n",
              "      <td>NaN</td>\n",
              "      <td>NaN</td>\n",
              "    </tr>\n",
              "    <tr>\n",
              "      <th>size</th>\n",
              "      <td>244</td>\n",
              "      <td>NaN</td>\n",
              "      <td>NaN</td>\n",
              "      <td>NaN</td>\n",
              "      <td>2.56967</td>\n",
              "      <td>0.9511</td>\n",
              "      <td>1</td>\n",
              "      <td>2</td>\n",
              "      <td>2</td>\n",
              "      <td>3</td>\n",
              "      <td>6</td>\n",
              "    </tr>\n",
              "  </tbody>\n",
              "</table>\n",
              "</div>"
            ],
            "text/plain": [
              "           count unique     top freq  ...      25%     50%      75%    max\n",
              "total_bill   244    NaN     NaN  NaN  ...  13.3475  17.795  24.1275  50.81\n",
              "tip          244    NaN     NaN  NaN  ...        2     2.9   3.5625     10\n",
              "sex          244      2    Male  157  ...      NaN     NaN      NaN    NaN\n",
              "smoker       244      2      No  151  ...      NaN     NaN      NaN    NaN\n",
              "day          244      4     Sat   87  ...      NaN     NaN      NaN    NaN\n",
              "time         244      2  Dinner  176  ...      NaN     NaN      NaN    NaN\n",
              "size         244    NaN     NaN  NaN  ...        2       2        3      6\n",
              "\n",
              "[7 rows x 11 columns]"
            ]
          },
          "metadata": {
            "tags": []
          },
          "execution_count": 7
        }
      ]
    },
    {
      "cell_type": "markdown",
      "metadata": {
        "id": "VN-Or_cFQGex"
      },
      "source": [
        "# 1. Adakah tipe variabel yang kurang tepat di data tersebut?"
      ]
    },
    {
      "cell_type": "code",
      "metadata": {
        "colab": {
          "base_uri": "https://localhost:8080/"
        },
        "id": "4JHRcj3EUK4c",
        "outputId": "eb580f39-4b97-499b-b927-676f2fefb3d5"
      },
      "source": [
        "tips.info()"
      ],
      "execution_count": null,
      "outputs": [
        {
          "output_type": "stream",
          "text": [
            "<class 'pandas.core.frame.DataFrame'>\n",
            "RangeIndex: 244 entries, 0 to 243\n",
            "Data columns (total 7 columns):\n",
            " #   Column      Non-Null Count  Dtype   \n",
            "---  ------      --------------  -----   \n",
            " 0   total_bill  244 non-null    float64 \n",
            " 1   tip         244 non-null    float64 \n",
            " 2   sex         244 non-null    category\n",
            " 3   smoker      244 non-null    category\n",
            " 4   day         244 non-null    category\n",
            " 5   time        244 non-null    category\n",
            " 6   size        244 non-null    int64   \n",
            "dtypes: category(4), float64(2), int64(1)\n",
            "memory usage: 7.3 KB\n"
          ],
          "name": "stdout"
        }
      ]
    },
    {
      "cell_type": "markdown",
      "metadata": {
        "id": "CWaQOJgCtbEl"
      },
      "source": [
        "Diketahui bahwa tipe variabel di atas sudah sesuai"
      ]
    },
    {
      "cell_type": "markdown",
      "metadata": {
        "id": "UtO_4aGoSKhR"
      },
      "source": [
        "# 2. Apakah data numeriknya cenderung berdistribusi normal?"
      ]
    },
    {
      "cell_type": "code",
      "metadata": {
        "colab": {
          "base_uri": "https://localhost:8080/",
          "height": 206
        },
        "id": "9-xEHsA4Z8Tn",
        "outputId": "4460d8f4-56a5-4c1c-b3ba-fd9324e13a3b"
      },
      "source": [
        "numerical = tips.select_dtypes(include = ['int64','float64']).columns\n",
        "\n",
        "tips[numerical].hist(figsize=(25, 6), layout=(2, 4));"
      ],
      "execution_count": null,
      "outputs": [
        {
          "output_type": "display_data",
          "data": {
            "image/png": "[encoded data removed]",
            "text/plain": [
              "<Figure size 1800x432 with 8 Axes>"
            ]
          },
          "metadata": {
            "tags": [],
            "needs_background": "light"
          }
        }
      ]
    },
    {
      "cell_type": "markdown",
      "metadata": {
        "id": "3cI0Fqi0c3FS"
      },
      "source": [
        "Dilihat dari histogram, kita dapat mengetahui bahwa data numeriknya tidak berdistibusi normal dikarenakan:\n",
        "1. Kurvanya tidak berbentuk lonceng\n",
        "2. Rata-rata tidak terletak di tengah distribusi\n",
        "3. Luas daerah sebelah kiri dan kanan tidak mendekati 50%"
      ]
    },
    {
      "cell_type": "markdown",
      "metadata": {
        "id": "SmMj6epnSYja"
      },
      "source": [
        "# 3. Apakah ada outlier, noise, missing values, dan-atau duplikasi data?"
      ]
    },
    {
      "cell_type": "code",
      "metadata": {
        "colab": {
          "base_uri": "https://localhost:8080/"
        },
        "id": "GRcyd5oXeDSK",
        "outputId": "70627e20-7b0c-4598-fca1-e0cc7c481dda"
      },
      "source": [
        "#mengecek apakah ada duplikat data?\n",
        "print(tips.shape)\n",
        "tips.duplicated().sum()"
      ],
      "execution_count": null,
      "outputs": [
        {
          "output_type": "stream",
          "text": [
            "(244, 7)\n"
          ],
          "name": "stdout"
        },
        {
          "output_type": "execute_result",
          "data": {
            "text/plain": [
              "1"
            ]
          },
          "metadata": {
            "tags": []
          },
          "execution_count": 16
        }
      ]
    },
    {
      "cell_type": "markdown",
      "metadata": {
        "id": "q0ltqmlHejjl"
      },
      "source": [
        "Terdapat 1 duplikasi data"
      ]
    },
    {
      "cell_type": "code",
      "metadata": {
        "colab": {
          "base_uri": "https://localhost:8080/"
        },
        "id": "8_DrxCY9es22",
        "outputId": "6478d76a-362d-4324-c383-f7b85f1aff60"
      },
      "source": [
        "#menghapus entri yang memiliki data duplikat \n",
        "tips.drop_duplicates(inplace=True)\n",
        "print(tips.duplicated().sum()) # tidak ada lagi duplikat\n",
        "print(tips.shape) # mengecek ulang dengan print size data"
      ],
      "execution_count": null,
      "outputs": [
        {
          "output_type": "stream",
          "text": [
            "0\n",
            "(243, 7)\n"
          ],
          "name": "stdout"
        }
      ]
    },
    {
      "cell_type": "code",
      "metadata": {
        "colab": {
          "base_uri": "https://localhost:8080/"
        },
        "id": "ZyQ_lYTHfNxy",
        "outputId": "73cb7709-37ad-418d-fb64-e63eab19519a"
      },
      "source": [
        "# Melihat Missing Values\n",
        "print(tips.isnull().sum())"
      ],
      "execution_count": null,
      "outputs": [
        {
          "output_type": "stream",
          "text": [
            "total_bill    0\n",
            "tip           0\n",
            "sex           0\n",
            "smoker        0\n",
            "day           0\n",
            "time          0\n",
            "size          0\n",
            "dtype: int64\n"
          ],
          "name": "stdout"
        }
      ]
    },
    {
      "cell_type": "markdown",
      "metadata": {
        "id": "zPioLPraf5qp"
      },
      "source": [
        "Tidak terdapat Missing Values"
      ]
    },
    {
      "cell_type": "code",
      "metadata": {
        "colab": {
          "base_uri": "https://localhost:8080/",
          "height": 383
        },
        "id": "GxJeM8Kaf9Q0",
        "outputId": "0939fcff-a62e-47f6-ca40-731bdfc9c244"
      },
      "source": [
        "# Mengecek adakah outlier?\n",
        "p= sns.catplot(x=\"time\", y=\"tip\", data=tips)"
      ],
      "execution_count": null,
      "outputs": [
        {
          "output_type": "display_data",
          "data": {
            "image/png": "[encoded data removed]",
            "text/plain": [
              "<Figure size 360x360 with 1 Axes>"
            ]
          },
          "metadata": {
            "tags": [],
            "needs_background": "light"
          }
        }
      ]
    },
    {
      "cell_type": "markdown",
      "metadata": {
        "id": "IOFPJG6Dxh0-"
      },
      "source": [
        "Dari sampel yang telah diambil yaitu data waktu terhadap tip (Kategorik dan numerik) dapat dilihat pada bagian Dinner dengan Tip antara 8-10 terdapat titik yang renggang atau tidak mengelompok dengan data lainnya. Hal ini mengindikasikan terdapat outlier karena data tersebut memiliki karakteristik secara signifikan berbeda dengan kebanyakan data lainnya."
      ]
    },
    {
      "cell_type": "markdown",
      "metadata": {
        "id": "kypugrweSmmD"
      },
      "source": [
        "# 4. Apakah pelanggan pria dan wanita cenderung proporsional (balance)?"
      ]
    },
    {
      "cell_type": "code",
      "metadata": {
        "colab": {
          "base_uri": "https://localhost:8080/",
          "height": 269
        },
        "id": "K1sGcWTZvgDX",
        "outputId": "8a352f68-8bec-4d82-a4ee-21cd1aa8f0f1"
      },
      "source": [
        "# Mosaic Plot\n",
        "from statsmodels.graphics.mosaicplot import mosaic\n",
        "\n",
        "p = mosaic(tips, ['sex'])"
      ],
      "execution_count": null,
      "outputs": [
        {
          "output_type": "display_data",
          "data": {
            "image/png": "[encoded data removed]",
            "text/plain": [
              "<Figure size 432x288 with 3 Axes>"
            ]
          },
          "metadata": {
            "tags": [],
            "needs_background": "light"
          }
        }
      ]
    },
    {
      "cell_type": "code",
      "metadata": {
        "colab": {
          "base_uri": "https://localhost:8080/",
          "height": 248
        },
        "id": "Y0rgD8TFvusC",
        "outputId": "4bc168f5-4289-4d98-ba4e-dd8977a28f30"
      },
      "source": [
        "# PieChart\n",
        "plot = tips.sex.value_counts().plot(kind='pie')"
      ],
      "execution_count": null,
      "outputs": [
        {
          "output_type": "display_data",
          "data": {
            "image/png": "[encoded data removed]",
            "text/plain": [
              "<Figure size 432x288 with 1 Axes>"
            ]
          },
          "metadata": {
            "tags": []
          }
        }
      ]
    },
    {
      "cell_type": "markdown",
      "metadata": {
        "id": "tk50adlsv54x"
      },
      "source": [
        "Dari kedua visualisasi ini dapat diketahui bahwa pelanggan pria lebih banyak dibandingkan pelanggan wanita"
      ]
    },
    {
      "cell_type": "markdown",
      "metadata": {
        "id": "eWIDBUKCQFFj"
      },
      "source": [
        "# 5. Dari data yang ada apakah Pria atau wanita ada kecenderungan memberi tips lebih besar?\n",
        "\n",
        "\n",
        "\n",
        "\n"
      ]
    },
    {
      "cell_type": "code",
      "metadata": {
        "colab": {
          "base_uri": "https://localhost:8080/",
          "height": 746
        },
        "id": "krUxtGvBSftK",
        "outputId": "ac4487d5-ffe9-4ea3-eb01-11942e0c648e"
      },
      "source": [
        "p= sns.catplot(x=\"sex\", y=\"tip\", data=tips, kind ='swarm')\n",
        "p2 = sns.catplot(x=\"sex\", y=\"tip\", hue=\"sex\", kind=\"box\", data=tips)"
      ],
      "execution_count": null,
      "outputs": [
        {
          "output_type": "display_data",
          "data": {
            "image/png": "[encoded data removed]",
            "text/plain": [
              "<Figure size 360x360 with 1 Axes>"
            ]
          },
          "metadata": {
            "tags": []
          }
        },
        {
          "output_type": "display_data",
          "data": {
            "image/png": "[encoded data removed]",
            "text/plain": [
              "<Figure size 360x360 with 1 Axes>"
            ]
          },
          "metadata": {
            "tags": []
          }
        }
      ]
    },
    {
      "cell_type": "code",
      "metadata": {
        "colab": {
          "base_uri": "https://localhost:8080/",
          "height": 394
        },
        "id": "kqB0wyE_O-pL",
        "outputId": "74bd2bda-4330-4f4d-a707-ef01099291a5"
      },
      "source": [
        "plt.figure(figsize=(8,6))\n",
        "p = sns.countplot(x=\"sex\", data= tips)"
      ],
      "execution_count": null,
      "outputs": [
        {
          "output_type": "display_data",
          "data": {
            "image/png": "[encoded data removed]",
            "text/plain": [
              "<Figure size 576x432 with 1 Axes>"
            ]
          },
          "metadata": {
            "tags": []
          }
        }
      ]
    },
    {
      "cell_type": "markdown",
      "metadata": {
        "id": "CJL1QCzjfyf2"
      },
      "source": [
        "Dengan demikian, dari data tersebut terlihat kecenderungan bahwa Laki-laki dengan variabel Male lebih memberikan tips lebih"
      ]
    },
    {
      "cell_type": "markdown",
      "metadata": {
        "id": "IOqihZeQdeP8"
      },
      "source": [
        "# 6. Dari data yang ada apakah ada kecenderungan tips lebih besar di hari-hari tertentu?"
      ]
    },
    {
      "cell_type": "code",
      "metadata": {
        "colab": {
          "base_uri": "https://localhost:8080/",
          "height": 382
        },
        "id": "ayLy49RJdyu3",
        "outputId": "bf97f022-2874-49f9-f825-92a678fdb73a"
      },
      "source": [
        "p= sns.catplot(x=\"day\", y=\"tip\", data=tips, kind ='swarm')\n"
      ],
      "execution_count": null,
      "outputs": [
        {
          "output_type": "display_data",
          "data": {
            "image/png": "[encoded data removed]",
            "text/plain": [
              "<Figure size 360x360 with 1 Axes>"
            ]
          },
          "metadata": {
            "tags": []
          }
        }
      ]
    },
    {
      "cell_type": "markdown",
      "metadata": {
        "id": "ee0vPlS-jqG8"
      },
      "source": [
        "\n",
        "Terlihat dari visualisasi di atas, pada hari sabtu customer memiliki kecenderungan untuk memberikan tips lebih besar "
      ]
    },
    {
      "cell_type": "markdown",
      "metadata": {
        "id": "QQbsvP5FdWkv"
      },
      "source": [
        "# 7. Dari data yang ada apakah customer perokok cenderung memberi tips lebih "
      ]
    },
    {
      "cell_type": "code",
      "metadata": {
        "colab": {
          "base_uri": "https://localhost:8080/",
          "height": 382
        },
        "id": "KclubTh6d63A",
        "outputId": "9d68299d-2fec-4833-c162-3b77d7ac411b"
      },
      "source": [
        "p= sns.catplot(x=\"smoker\", y=\"tip\", data=tips, kind ='swarm')"
      ],
      "execution_count": null,
      "outputs": [
        {
          "output_type": "display_data",
          "data": {
            "image/png": "[encoded data removed]",
            "text/plain": [
              "<Figure size 360x360 with 1 Axes>"
            ]
          },
          "metadata": {
            "tags": []
          }
        }
      ]
    },
    {
      "cell_type": "code",
      "metadata": {
        "id": "vON8xw0jd8au"
      },
      "source": [
        "\n",
        "Dengan demikian, pada visualisasi di atas terlihat bahwa yang memberi tips lebih banyak adalah orang yang tidak merokok"
      ],
      "execution_count": null,
      "outputs": []
    },
    {
      "cell_type": "code",
      "metadata": {
        "id": "0M2TplwEbQzO"
      },
      "source": [
        "import pandas as pd\n",
        "import numpy as np\n",
        "import matplotlib.pyplot as plt\n",
        "data=pd.read_csv(\"tips.csv\")"
      ],
      "execution_count": null,
      "outputs": []
    },
    {
      "cell_type": "code",
      "metadata": {
        "id": "-1oZ6vEIp0R7"
      },
      "source": [
        "def preprocess_inputs(df):\n",
        "    df = df.copy()\n",
        "    \n",
        "    df['sex'] = df['sex'].replace({'Female': 0, 'Male': 1})\n",
        "    df['smoker'] = df['smoker'].replace({'No': 0, 'Yes': 1})\n",
        "    df['time'] = df['time'].replace({'Lunch': 0, 'Dinner': 1})\n",
        "    \n",
        "    df['day'] = df['day'].replace({'Thur': 0, 'Fri': 1, 'Sat': 2, 'Sun': 3})\n",
        "    \n",
        "    return df"
      ],
      "execution_count": null,
      "outputs": []
    },
    {
      "cell_type": "code",
      "metadata": {
        "id": "iTgzLbTAp2bd"
      },
      "source": [
        "datatips = preprocess_inputs(data)"
      ],
      "execution_count": null,
      "outputs": []
    },
    {
      "cell_type": "code",
      "metadata": {
        "id": "ZD1SmhgJqFzr"
      },
      "source": [
        "datatips"
      ],
      "execution_count": null,
      "outputs": []
    },
    {
      "cell_type": "markdown",
      "metadata": {
        "id": "vEDWDtAYqVJG"
      },
      "source": [
        "# 8. Apakah pola di nomer 5 dan 7 dipengaruhi hari?"
      ]
    },
    {
      "cell_type": "code",
      "metadata": {
        "colab": {
          "base_uri": "https://localhost:8080/",
          "height": 357
        },
        "id": "wqGQ4DCAnDAR",
        "outputId": "f5c42122-4fbf-4828-dae0-6bbb062bbe6c"
      },
      "source": [
        "import matplotlib.cm as cm\n",
        "fig = plt.figure(figsize=(8, 6))\n",
        "ax = fig.add_subplot(111, projection='3d')\n",
        "x = datatips['sex']\n",
        "y = datatips['day']\n",
        "z = datatips['tip']\n",
        "color = cm.rainbow(np.linspace(0, 1, len(y)))\n",
        "\n",
        "ax.scatter(x, y, z, s=50, c=color, marker='o')\n",
        "ax.set_xlabel('pria dan wanita')\n",
        "ax.set_ylabel('hari')\n",
        "ax.set_zlabel('tip')\n",
        "plt.show()"
      ],
      "execution_count": null,
      "outputs": [
        {
          "output_type": "display_data",
          "data": {
            "image/png": "[encoded data removed]",
            "text/plain": [
              "<Figure size 576x432 with 1 Axes>"
            ]
          },
          "metadata": {
            "tags": [],
            "needs_background": "light"
          }
        }
      ]
    },
    {
      "cell_type": "code",
      "metadata": {
        "colab": {
          "base_uri": "https://localhost:8080/",
          "height": 357
        },
        "id": "ywUzmd9GnRLV",
        "outputId": "8060af42-0fb3-4b7a-c85b-864acbf80148"
      },
      "source": [
        "fig = plt.figure(figsize=(8, 6))\n",
        "ax = fig.add_subplot(111, projection='3d')\n",
        "x = datatips['smoker']\n",
        "y = datatips['day']\n",
        "z = datatips['tip']\n",
        "color = cm.rainbow(np.linspace(0, 1, len(y)))\n",
        "\n",
        "ax.scatter(x, y, z, s=50, c=color, marker='o')\n",
        "ax.set_xlabel('costumer perokok')\n",
        "ax.set_ylabel('hari')\n",
        "ax.set_zlabel('tip')\n",
        "plt.show()"
      ],
      "execution_count": null,
      "outputs": [
        {
          "output_type": "display_data",
          "data": {
            "image/png": "[encoded data removed]",
            "text/plain": [
              "<Figure size 576x432 with 1 Axes>"
            ]
          },
          "metadata": {
            "tags": [],
            "needs_background": "light"
          }
        }
      ]
    },
    {
      "cell_type": "markdown",
      "metadata": {
        "id": "WGB0fQWMqyLf"
      },
      "source": [
        "- Dari bentuk scatter plot 3D pertama, yaitu antara x=pengunjung pria dan wanita, y=hari, dan z=tip yang merupakan pertambahan dari no 5\n",
        "- Dari bentuk scatter plot 3D kedua, yaitu antara x=pengunjung yang perokok, y=hari, dan z=tip yang merupakan pertambahan dari no 7\n",
        "\n",
        "Sehingga dari scatter plot pertama dan kedua dapat dilihat dan disimpulkan bahwa pola no 5 dan 7 juga dipengaruhi hari"
      ]
    },
    {
      "cell_type": "markdown",
      "metadata": {
        "id": "9H4gj-TcsWI2"
      },
      "source": [
        "# 9. Pola apalagi yang dapat anda temukan? (misal, bisakah anda menyarankan tata letak kursi/meja restaurant dari data ini?)"
      ]
    },
    {
      "cell_type": "code",
      "metadata": {
        "colab": {
          "base_uri": "https://localhost:8080/",
          "height": 391
        },
        "id": "VbOKh_fmsZRj",
        "outputId": "5e2e796f-5fc6-440c-ca55-ad435489edd5"
      },
      "source": [
        "import seaborn as sns\n",
        "corr2 = datatips.corr() \n",
        "plt.figure(figsize=(8, 6))\n",
        "sns.heatmap(corr2[(corr2 >= 0.2) | (corr2 <= -0.1)], annot=True, vmin=-1.0, cmap='viridis')\n",
        "plt.title(\"Correlation Matrix\")\n",
        "plt.show()"
      ],
      "execution_count": null,
      "outputs": [
        {
          "output_type": "display_data",
          "data": {
            "image/png": "[encoded data removed]",
            "text/plain": [
              "<Figure size 576x432 with 2 Axes>"
            ]
          },
          "metadata": {
            "tags": [],
            "needs_background": "light"
          }
        }
      ]
    },
    {
      "cell_type": "code",
      "metadata": {
        "colab": {
          "base_uri": "https://localhost:8080/",
          "height": 266
        },
        "id": "GzF0xuLcso2x",
        "outputId": "db96cab6-b803-4d70-cc81-cea74cf53a9d"
      },
      "source": [
        "data.describe(include='all').transpose()"
      ],
      "execution_count": null,
      "outputs": [
        {
          "output_type": "execute_result",
          "data": {
            "text/html": [
              "<div>\n",
              "<style scoped>\n",
              "    .dataframe tbody tr th:only-of-type {\n",
              "        vertical-align: middle;\n",
              "    }\n",
              "\n",
              "    .dataframe tbody tr th {\n",
              "        vertical-align: top;\n",
              "    }\n",
              "\n",
              "    .dataframe thead th {\n",
              "        text-align: right;\n",
              "    }\n",
              "</style>\n",
              "<table border=\"1\" class=\"dataframe\">\n",
              "  <thead>\n",
              "    <tr style=\"text-align: right;\">\n",
              "      <th></th>\n",
              "      <th>count</th>\n",
              "      <th>unique</th>\n",
              "      <th>top</th>\n",
              "      <th>freq</th>\n",
              "      <th>mean</th>\n",
              "      <th>std</th>\n",
              "      <th>min</th>\n",
              "      <th>25%</th>\n",
              "      <th>50%</th>\n",
              "      <th>75%</th>\n",
              "      <th>max</th>\n",
              "    </tr>\n",
              "  </thead>\n",
              "  <tbody>\n",
              "    <tr>\n",
              "      <th>total_bill</th>\n",
              "      <td>244</td>\n",
              "      <td>NaN</td>\n",
              "      <td>NaN</td>\n",
              "      <td>NaN</td>\n",
              "      <td>19.7859</td>\n",
              "      <td>8.90241</td>\n",
              "      <td>3.07</td>\n",
              "      <td>13.3475</td>\n",
              "      <td>17.795</td>\n",
              "      <td>24.1275</td>\n",
              "      <td>50.81</td>\n",
              "    </tr>\n",
              "    <tr>\n",
              "      <th>tip</th>\n",
              "      <td>244</td>\n",
              "      <td>NaN</td>\n",
              "      <td>NaN</td>\n",
              "      <td>NaN</td>\n",
              "      <td>2.99828</td>\n",
              "      <td>1.38364</td>\n",
              "      <td>1</td>\n",
              "      <td>2</td>\n",
              "      <td>2.9</td>\n",
              "      <td>3.5625</td>\n",
              "      <td>10</td>\n",
              "    </tr>\n",
              "    <tr>\n",
              "      <th>sex</th>\n",
              "      <td>244</td>\n",
              "      <td>2</td>\n",
              "      <td>Male</td>\n",
              "      <td>157</td>\n",
              "      <td>NaN</td>\n",
              "      <td>NaN</td>\n",
              "      <td>NaN</td>\n",
              "      <td>NaN</td>\n",
              "      <td>NaN</td>\n",
              "      <td>NaN</td>\n",
              "      <td>NaN</td>\n",
              "    </tr>\n",
              "    <tr>\n",
              "      <th>smoker</th>\n",
              "      <td>244</td>\n",
              "      <td>2</td>\n",
              "      <td>No</td>\n",
              "      <td>151</td>\n",
              "      <td>NaN</td>\n",
              "      <td>NaN</td>\n",
              "      <td>NaN</td>\n",
              "      <td>NaN</td>\n",
              "      <td>NaN</td>\n",
              "      <td>NaN</td>\n",
              "      <td>NaN</td>\n",
              "    </tr>\n",
              "    <tr>\n",
              "      <th>day</th>\n",
              "      <td>244</td>\n",
              "      <td>4</td>\n",
              "      <td>Sat</td>\n",
              "      <td>87</td>\n",
              "      <td>NaN</td>\n",
              "      <td>NaN</td>\n",
              "      <td>NaN</td>\n",
              "      <td>NaN</td>\n",
              "      <td>NaN</td>\n",
              "      <td>NaN</td>\n",
              "      <td>NaN</td>\n",
              "    </tr>\n",
              "    <tr>\n",
              "      <th>time</th>\n",
              "      <td>244</td>\n",
              "      <td>2</td>\n",
              "      <td>Dinner</td>\n",
              "      <td>176</td>\n",
              "      <td>NaN</td>\n",
              "      <td>NaN</td>\n",
              "      <td>NaN</td>\n",
              "      <td>NaN</td>\n",
              "      <td>NaN</td>\n",
              "      <td>NaN</td>\n",
              "      <td>NaN</td>\n",
              "    </tr>\n",
              "    <tr>\n",
              "      <th>size</th>\n",
              "      <td>244</td>\n",
              "      <td>NaN</td>\n",
              "      <td>NaN</td>\n",
              "      <td>NaN</td>\n",
              "      <td>2.56967</td>\n",
              "      <td>0.9511</td>\n",
              "      <td>1</td>\n",
              "      <td>2</td>\n",
              "      <td>2</td>\n",
              "      <td>3</td>\n",
              "      <td>6</td>\n",
              "    </tr>\n",
              "  </tbody>\n",
              "</table>\n",
              "</div>"
            ],
            "text/plain": [
              "           count unique     top freq  ...      25%     50%      75%    max\n",
              "total_bill   244    NaN     NaN  NaN  ...  13.3475  17.795  24.1275  50.81\n",
              "tip          244    NaN     NaN  NaN  ...        2     2.9   3.5625     10\n",
              "sex          244      2    Male  157  ...      NaN     NaN      NaN    NaN\n",
              "smoker       244      2      No  151  ...      NaN     NaN      NaN    NaN\n",
              "day          244      4     Sat   87  ...      NaN     NaN      NaN    NaN\n",
              "time         244      2  Dinner  176  ...      NaN     NaN      NaN    NaN\n",
              "size         244    NaN     NaN  NaN  ...        2       2        3      6\n",
              "\n",
              "[7 rows x 11 columns]"
            ]
          },
          "metadata": {
            "tags": []
          },
          "execution_count": 29
        }
      ]
    },
    {
      "cell_type": "markdown",
      "metadata": {
        "id": "Z03spV78tDH-"
      },
      "source": [
        "Dari bagan-bagan data yang ada tersebut dapat dilihat bahwa masing-masing dataset dapat membentuk pola, misalnya\n",
        "- Size of the party memiliki korelasi yang besar dengan total bill yang dapat menyarankan pihak restaurant untuk memperluas space dengan menambah kursi/meja kemudian dapat menambah hiburan-hiburan yang menarik bagi pengunjung \n",
        "- Pria dan wanita yang berkunjung berdasarkan day dan time membentuk pola yang berpengaruh bagi restaurant, seperti bahwa male, non smoker, saturday, dan dinner merupakan top/paling banyak dari dataset restaurant sehingga dapat dilakukan inovasi oleh pihak restaurant dari informasi tersebut misalnya tata letak meja kursi lebih banyak diruangan non smoking   \n",
        "- Tip dan size of the party dari restaurant juga saling mempengaruhi, sehingga dapat menyarankan bahwa pelayanan bagi pengunjung harus tetap maksimal meskipun sedang ramai ataupun sepi, serta fasilitas yang ada juga harus tetap dijaga misalnya kebersihan dan keramahan\n",
        "- Day dan time dari datangnya pengunjung ke restaurant juga membentuk pola dan memiliki interpretasi yang dapat menyarankan pihak restaurant, bahwa saturday night adalah waktu paling ramai untuk didatangi pengunjung sehingga pihak restaurant harus lebih sigap pada waktu-waktu tersebut dalam fasilitas maupun pelayanan\n",
        "- Bill dan tip juga dapat membentuk pola dan memiliki interpretasi korelasi matriks yang cukup besar "
      ]
    },
    {
      "cell_type": "markdown",
      "metadata": {
        "id": "57BXyjATu1Y5"
      },
      "source": [
        "# 10. Final question: dari hasil EDA anda saran apa saja yang akan anda berikan ke pemilik restaurant?"
      ]
    },
    {
      "cell_type": "code",
      "metadata": {
        "colab": {
          "base_uri": "https://localhost:8080/",
          "height": 391
        },
        "id": "-rkjZkTju0a9",
        "outputId": "84ad4b2b-27af-48b0-f143-9529718c4601"
      },
      "source": [
        "plt.figure(figsize=(8, 6))\n",
        "sns.heatmap(datatips.corr(), annot=True, vmin=-1.0, cmap='mako')\n",
        "plt.title(\"Correlation Matrix\")\n",
        "plt.show()"
      ],
      "execution_count": null,
      "outputs": [
        {
          "output_type": "display_data",
          "data": {
            "image/png": "[encoded data removed]",
            "text/plain": [
              "<Figure size 576x432 with 2 Axes>"
            ]
          },
          "metadata": {
            "tags": [],
            "needs_background": "light"
          }
        }
      ]
    },
    {
      "cell_type": "markdown",
      "metadata": {
        "id": "v93XSVhUvG2K"
      },
      "source": [
        "- Dari hasil EDA yang ada, kami menyarankan pemilik resaturant agar dapat menggunakan hasil/data yang ada untuk dapat mengembangkan restaurantnya sebab korelasi/pola yang ada (seperti yang disebutkan pada no 9) sangat berpengaruh bagi bagian-bagian restaurant yang harus dikembangkan dan harus diperbaiki. Dari data-data tersebut dapat menghasilkan interpretasi korelasi matriks antara dataset yang ada menjadi kecil/dibawah 0.4 dan negatif misalnya smoker dan day kemudian smoker dan size dimana hal tersebut dapat dicari tahu lebih dalam oleh pihak/pemilik restaurant mengenai alasan dapat terjadinya hal tersebut sehingga dapat dibenahi.\n",
        "- Selain itu dari data-data yang telah diolah dapat dilihat bahwa pengunjung laki-laki dan pengunjung non smoker datang paling banyak ke restaurant dan memberi tip paling besar. Kemudian pengunjung juga ramai datang pada hari Sabtu saat dinner. Sehingga pemilik restaurant dapat melakukan inovasi dari informasi-informasi tersebut, seperti meja/kursi di area non smoking lebih banyak dan area non smoking lebih luas daripada area smoking. Pada hari Sabtu malam terutama, pelayan di restaurant harus lebih banyak karena pengunjung lebih ramai. Kemudian karena lebih banyak laki-laki yang berkunjung sehingga dapat dilakukan pencarian informasi dari data tersebut yang dapat menarik pengunjung lebih banyak lagi misalkan dengan mengadakan live band, dll.\n",
        "- Ada pun dari data tersebut dapat dilakukan juga terobosan inovasi, misalnya diketahui bahwa pengunjung perempuan lebih sedikit, sehingga dapat digali informasi yang dapat menarik pengunjung perempuan juga untuk makan di restoran tersebut, misalnya dengan diadakan promo-promo menarik. "
      ]
    },
    {
      "cell_type": "markdown",
      "metadata": {
        "id": "lgrUwjoXum8_"
      },
      "source": [
        "- # ***Skills/kompetensi apa yang terasa sangat diperlukan dari latihan ini?***"
      ]
    },
    {
      "cell_type": "markdown",
      "metadata": {
        "id": "qQk6pLxbwrBS"
      },
      "source": [
        "- Mengerti mengenai pandas data frame\n",
        "- Mengerti mengenai visualisasi yang tepat digunakan berdasarkan data yang diambil \n",
        "- Mengerti mengenai cara mendeteksi outliers dari suatu data"
      ]
    }
  ]
}